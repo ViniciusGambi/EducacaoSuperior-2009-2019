{
 "cells": [
  {
   "cell_type": "markdown",
   "id": "4a9918e6-7a90-4f51-8415-a4f61cbeedbb",
   "metadata": {
    "tags": []
   },
   "source": [
    "### Setup inicial e preparação dos dados"
   ]
  },
  {
   "cell_type": "code",
   "execution_count": 1,
   "id": "48e49476-0553-4d39-b0cf-3e18685cf508",
   "metadata": {
    "tags": []
   },
   "outputs": [
    {
     "name": "stdout",
     "output_type": "stream",
     "text": [
      "OK\n"
     ]
    }
   ],
   "source": [
    "import pandas as pd\n",
    "import numpy as np\n",
    "import matplotlib.pyplot as plt\n",
    "import seaborn as sns\n",
    "\n",
    "pd.set_option('display.max_columns', None)\n",
    "pd.set_option('display.max_rows', None)\n",
    "print('OK')\n",
    "\n",
    "years = ['2009', '2019']\n",
    "\n",
    "def create_paths_for_many_years(years, file_base_name):\n",
    "    paths = dict()\n",
    "    for year in years:\n",
    "        paths[year] = '{}/dados/{}.CSV'.format(year, file_base_name)\n",
    "    return paths\n",
    "    \n",
    "def read_datasets_for_many_years(years, paths):\n",
    "    dfs = dict()\n",
    "    for year in years:\n",
    "        dfs[year] = pd.read_csv(filepath_or_buffer=paths[year], sep='|', engine='python', encoding=encoding)\n",
    "    return dfs\n",
    "\n",
    "teacher_paths = create_paths_for_many_years(years, 'SUP_DOCENTE')   \n",
    "\n",
    "encoding='ISO-8859-1'\n",
    "\n",
    "def get_federals(df):\n",
    "    public  = df[df[\"TP_CATEGORIA_ADMINISTRATIVA\"].isin([1])]\n",
    "    return public\n",
    "\n",
    "teachers = read_datasets_for_many_years(years, teacher_paths)\n",
    "columns = ['CO_CATEGORIA_ADMINISTRATIVA', 'CO_SITUACAO_DOCENTE', 'CO_ESCOLARIDADE_DOCENTE', 'IN_SEXO_DOCENTE', 'CO_COR_RACA_DOCENTE', 'IN_DOCENTE_DEFICIENCIA', 'IN_BOLSA_PESQUISA']\n",
    "teachers['2009'] = teachers['2009'][columns]\n",
    "\n",
    "### 2009 adjusts\n",
    "columns = {\n",
    "    'CO_CATEGORIA_ADMINISTRATIVA': 'TP_CATEGORIA_ADMINISTRATIVA', \n",
    "    'CO_SITUACAO_DOCENTE': 'TP_SITUACAO',\n",
    "    'CO_ESCOLARIDADE_DOCENTE': 'TP_ESCOLARIDADE',\n",
    "    'IN_SEXO_DOCENTE': 'TP_SEXO',\n",
    "    'CO_COR_RACA_DOCENTE': 'TP_COR_RACA',\n",
    "    'IN_DOCENTE_DEFICIENCIA': 'IN_DEFICIENCIA'\n",
    "}\n",
    "teachers['2009'].rename(columns=columns, inplace=True)\n",
    "teachers['2009']['NU_ANO_CENSO'] = pd.Series([2009 for x in range(len(teachers['2009'].index))])\n",
    "\n",
    "teachers['2009']['TP_CATEGORIA_ADMINISTRATIVA'] = teachers['2009']['TP_CATEGORIA_ADMINISTRATIVA'].replace({1: 'Federal', 2: 'Estadual', 3: 'Municipal', 4: 'Privada', 5: 'Privada', 6: 'Privada'})\n",
    "teachers['2009']['TP_SEXO'] = teachers['2009']['TP_SEXO'].replace({0: 'Masculino', 1: 'Feminino'})\n",
    "\n",
    "teachers['2009'].head()\n",
    "\n",
    "### 2019 adjusts\n",
    "columns = ['NU_ANO_CENSO', 'TP_CATEGORIA_ADMINISTRATIVA', 'TP_SITUACAO', 'TP_ESCOLARIDADE', 'TP_SEXO', 'TP_COR_RACA', 'IN_DEFICIENCIA', 'IN_BOLSA_PESQUISA']\n",
    "teachers['2019'] = teachers['2019'][columns]\n",
    "teachers['2019']['TP_CATEGORIA_ADMINISTRATIVA'] = teachers['2019']['TP_CATEGORIA_ADMINISTRATIVA'].replace({1: 'Federal', 2: 'Estadual', 3: 'Municipal', 4: 'Privada', 5: 'Privada', 6: 'Privada', 7: 'Especial', 8: 'Privada', 9: 'Privada'})\n",
    "teachers['2019']['TP_SEXO'] = teachers['2019']['TP_SEXO'].replace({1: 'Feminino', 2: 'Masculino'})\n",
    "\n",
    "### multiple adjusts\n",
    "df = pd.concat([teachers['2009'], teachers['2019']])\n",
    "df['TP_SITUACAO'] = df['TP_SITUACAO'].replace({1: 'Em exercício', 2: 'Afastado para qualificação', 3: 'Afastado por outros motivos', 4: 'Afastado por outros motivos', 5: 'Afastado por outros motivos', 6: 'Falecido'})\n",
    "df['TP_ESCOLARIDADE'] = df['TP_ESCOLARIDADE'].replace({1: 'Sem graduação', 2: 'Graduação', 3: 'Especialização', 4: 'Mestrado', 5: 'Doutorado'})\n",
    "df['TP_COR_RACA'] = df['TP_COR_RACA'].replace({0: 'Não quis declarar', 1: 'Branca', 2: 'Preta', 3: 'Parda', 4: 'Amarela', 5: 'Indígena', 6: 'Não dispõe da informação', 9: 'Não dispõe da informação'})\n",
    "df['IN_DEFICIENCIA'] = df['IN_DEFICIENCIA'].replace({0: False, 1: True, 9: None})\n",
    "df['IN_BOLSA_PESQUISA'] = df['IN_BOLSA_PESQUISA'].replace({0: False, 1: True})\n",
    "\n",
    "df.rename(columns={'TP_CATEGORIA_ADMINISTRATIVA': 'Categoria Administrativa', 'TP_SITUACAO': 'Situação', 'TP_ESCOLARIDADE': 'Escolaridade', 'TP_SEXO': 'Sexo', 'TP_COR_RACA': 'Raça', 'NU_ANO_CENSO': 'Ano', 'IN_DEFICIENCIA': 'Deficiência', 'IN_BOLSA_PESQUISA': 'Bolsa Pesquisa'}, inplace=True)\n",
    "\n",
    "def get_total_by_year_by_reference(total_by_year, total_references, x):\n",
    "    if len(total_references) <= 0:\n",
    "        return total_by_year[x['Ano']]\n",
    "    else:\n",
    "        return total_by_year[tuple(x[col] for col in (['Ano']+total_references))]\n",
    "\n",
    "def create_table_by_segregators(input_df, segregators, total_references = []):\n",
    "    count_by_segregators_and_year = input_df.groupby(['Ano'] + segregators).size().reset_index(name='Quantidade')\n",
    "    total_by_year = count_by_segregators_and_year.groupby(['Ano'] + total_references)['Quantidade'].sum()\n",
    "    count_by_segregators_and_year['Porcentagem'] = count_by_segregators_and_year.apply(lambda x: (x['Quantidade'] / get_total_by_year_by_reference(total_by_year, total_references, x) * 100).round(2), axis=1)\n",
    "\n",
    "    percentage_pivot = count_by_segregators_and_year.pivot(index=segregators, columns='Ano', values='Porcentagem')\n",
    "    quantity_pivot  = count_by_segregators_and_year.pivot(index=segregators, columns='Ano', values='Quantidade')\n",
    "    entities_by_segregators = pd.concat([quantity_pivot, percentage_pivot], axis=1)\n",
    "\n",
    "    columns_tuples = [\n",
    "        ('Quantidade', entities_by_segregators.columns[0]),\n",
    "        ('Quantidade', entities_by_segregators.columns[1]),\n",
    "        ('Porcentagem', entities_by_segregators.columns[2]),\n",
    "        ('Porcentagem', entities_by_segregators.columns[3])\n",
    "    ]\n",
    "    columns = pd.MultiIndex.from_tuples(columns_tuples)\n",
    "    entities_by_segregators.columns = columns\n",
    "\n",
    "    quantity_evolution = entities_by_segregators['Quantidade', 2019] - entities_by_segregators['Quantidade', 2009]\n",
    "    percentage_evolution = entities_by_segregators['Porcentagem', 2019] - entities_by_segregators['Porcentagem', 2009]\n",
    "    \n",
    "    percentage_increase = ((percentage_evolution/entities_by_segregators['Porcentagem', 2009]) * 100).round(2)\n",
    "\n",
    "    entities_by_segregators[('Quantidade', 'Evolução')] = quantity_evolution\n",
    "    entities_by_segregators[('Porcentagem', 'Evolução (%)')] = percentage_evolution\n",
    "    entities_by_segregators[('Porcentagem', 'Aumento Percentual (%)')] = percentage_increase\n",
    "\n",
    "    new_columns_order = [\n",
    "        ('Quantidade', 2009),\n",
    "        ('Quantidade', 2019),\n",
    "        ('Quantidade', 'Evolução'),\n",
    "        ('Porcentagem', 2009),\n",
    "        ('Porcentagem', 2019),\n",
    "        ('Porcentagem', 'Evolução (%)'),\n",
    "        ('Porcentagem', 'Aumento Percentual (%)')\n",
    "    ]\n",
    "\n",
    "    entities_by_segregators = entities_by_segregators[new_columns_order]\n",
    "    entities_by_segregators.index.name = segregators[0]\n",
    "\n",
    "    reseted_entities_by_segregators = entities_by_segregators.reset_index()\n",
    "\n",
    "    segregators_dict = dict()\n",
    "    for segregator in segregators:\n",
    "        segregators_dict[segregator] = reseted_entities_by_segregators[segregator]\n",
    "\n",
    "    segregators_dict[2009] = reseted_entities_by_segregators[('Porcentagem', 2009)]\n",
    "    segregators_dict[2019] = reseted_entities_by_segregators[('Porcentagem', 2019)]\n",
    "    segregators_dict['Evolução (%)'] = reseted_entities_by_segregators[('Porcentagem', 'Evolução (%)')]\n",
    "    segregators_dict['Aumento Percentual (%)'] = reseted_entities_by_segregators[('Porcentagem', 'Aumento Percentual (%)')]\n",
    "\n",
    "    entities_evolution_by_segregators = pd.DataFrame(segregators_dict)\n",
    "\n",
    "    return entities_by_segregators, entities_evolution_by_segregators, count_by_segregators_and_year\n"
   ]
  },
  {
   "cell_type": "code",
   "execution_count": 2,
   "id": "8fea07f9-6727-47a9-8215-9d639973fee5",
   "metadata": {
    "tags": []
   },
   "outputs": [],
   "source": [
    "def plot_slope_graph(x, y, hue, data, figsize = (5, 5), size = 10, **kwargs):\n",
    "    ax = kwargs.get('ax', None)\n",
    "    if not ax:\n",
    "        fig, ax = plt.subplots(figsize=figsize)\n",
    "    \n",
    "    graph = sns.lineplot(x=x, y=y, hue=hue, marker='o', linewidth=2, data=data, **kwargs)\n",
    "    graph.set_xticks([2009, 2019])\n",
    "    #ax.set_title(\"Relação entre total da conta e gorjeta\")\n",
    "\n",
    "    for line, name in zip(graph.lines, data[hue].unique()):\n",
    "        if len(line.get_ydata()):\n",
    "            y_initial = line.get_ydata()[0]\n",
    "            y_final = line.get_ydata()[-1]\n",
    "\n",
    "            # Adicionar valor inicial\n",
    "            graph.annotate(f'{y_initial:.2f}%',\n",
    "                           xy=(0, y_initial),\n",
    "                           xytext=(-37, 0),\n",
    "                           color=line.get_color(),\n",
    "                           xycoords=graph.get_yaxis_transform(),\n",
    "                           textcoords=\"offset points\",\n",
    "                           size=size,\n",
    "                           va=\"center\")\n",
    "\n",
    "            # Adicionar valor final\n",
    "            graph.annotate(f'{y_final:.2f}%     {name}',\n",
    "                           xy=(1, y_final),\n",
    "                           xytext=(0, 0),\n",
    "                           color=line.get_color(),\n",
    "                           xycoords=graph.get_yaxis_transform(),\n",
    "                           textcoords=\"offset points\",\n",
    "                           size=size,\n",
    "                           va=\"center\")   \n",
    "\n",
    "\n",
    "    ax.get_yaxis().set_visible(False)\n",
    "    ax.spines['top'].set_visible(False)\n",
    "    ax.spines['left'].set_visible(False)\n",
    "    ax.spines['right'].set_visible(False)\n",
    "    graph.legend_ = None\n",
    "      \n",
    "        \n",
    "def plot_comparison_graph(count_by_segregator_and_year_df, segregator, spacing = 0.5, label_rotation = 0, horizontalalignment = 'center', **kwargs):\n",
    "    fig, axs = plt.subplots(2, 2, figsize=(10, 8))\n",
    "    plt.subplots_adjust(wspace=spacing, hspace=spacing)\n",
    "    \n",
    "    graphs = []\n",
    "\n",
    "    graphs.append(sns.barplot(x=segregator, y=\"Quantidade\", hue=\"Ano\", data=count_by_segregator_and_year_df, ax=axs[0, 0], **kwargs))\n",
    "    graphs.append(sns.barplot(x=segregator, y=\"Porcentagem\", hue=\"Ano\", data=count_by_segregator_and_year_df, ax=axs[0,1], **kwargs))\n",
    "\n",
    "    graphs.append(sns.lineplot(x=\"Ano\", y=\"Quantidade\", hue=segregator, marker='o', data=count_by_segregator_and_year_df, ax=axs[1,0]))\n",
    "    graphs.append(sns.lineplot(x=\"Ano\", y=\"Porcentagem\", hue=segregator, marker='o', data=count_by_segregator_and_year_df, ax=axs[1,1]))\n",
    "\n",
    "    for graph in graphs[2:4]:\n",
    "        graph.set_xticks([2009, 2019])\n",
    "\n",
    "    for graph in graphs:\n",
    "        graph.set_xticklabels(graph.get_xticklabels(), rotation=label_rotation, horizontalalignment=horizontalalignment)\n",
    "    \n",
    "    plt.legend(loc='center left', bbox_to_anchor=(1, 0.5))\n",
    "    plt.show()\n",
    "    return count_by_segregator_and_year_df\n",
    "\n",
    "\n",
    "def plot_evolution_graph(entities_evolution_by_segregator, segregator, spacing = 0.5, label_rotation = 0, horizontalalignment = 'center', **kwargs):\n",
    "    fig, axs = plt.subplots(figsize=(4, 3))\n",
    "    graph = sns.barplot(x=segregator, y='Aumento Percentual (%)', data=entities_evolution_by_segregator, **kwargs)\n",
    "    graph.set_xticklabels(graph.get_xticklabels(), rotation=label_rotation, horizontalalignment=horizontalalignment)\n",
    "    plt.tight_layout()"
   ]
  },
  {
   "cell_type": "markdown",
   "id": "f7862a8f-ec61-4047-84d0-b190b13ae0d4",
   "metadata": {},
   "source": [
    "### a"
   ]
  },
  {
   "cell_type": "code",
   "execution_count": 3,
   "id": "a90dd13b-2cac-4b1d-a2df-88be965b3669",
   "metadata": {
    "tags": []
   },
   "outputs": [
    {
     "data": {
      "text/plain": [
       "Categoria Administrativa         0\n",
       "Situação                         0\n",
       "Escolaridade                     0\n",
       "Sexo                             0\n",
       "Raça                             0\n",
       "Deficiência                  43376\n",
       "Bolsa Pesquisa              287856\n",
       "Ano                              0\n",
       "dtype: int64"
      ]
     },
     "execution_count": 3,
     "metadata": {},
     "output_type": "execute_result"
    }
   ],
   "source": [
    "original_df = df\n",
    "original_df.shape\n",
    "original_df.head(8)\n",
    "\n",
    "isnulldf = original_df[original_df['Deficiência'].isnull()]\n",
    "contagem = isnulldf['Ano'].value_counts()\n",
    "\n",
    "contagem\n",
    "original_df.isna().sum()"
   ]
  },
  {
   "cell_type": "code",
   "execution_count": 4,
   "id": "3d185d71-43df-4be0-a5d5-3a315f85d6fe",
   "metadata": {},
   "outputs": [
    {
     "data": {
      "text/plain": [
       "(477647, 8)"
      ]
     },
     "execution_count": 4,
     "metadata": {},
     "output_type": "execute_result"
    }
   ],
   "source": [
    "df = original_df[(original_df['Situação'] == 'Em exercício') & (original_df['Raça'] != 'Não dispõe da informação') & (original_df['Raça'] != 'Não quis declarar') & (original_df['Categoria Administrativa'] != 'Especial')]\n",
    "public_values = ['Estadual', 'Municipal', 'Federal']\n",
    "df.shape"
   ]
  },
  {
   "cell_type": "code",
   "execution_count": 5,
   "id": "7da29715-cae2-43d1-b304-8a338b85a9cb",
   "metadata": {
    "tags": []
   },
   "outputs": [
    {
     "data": {
      "text/html": [
       "<div>\n",
       "<style scoped>\n",
       "    .dataframe tbody tr th:only-of-type {\n",
       "        vertical-align: middle;\n",
       "    }\n",
       "\n",
       "    .dataframe tbody tr th {\n",
       "        vertical-align: top;\n",
       "    }\n",
       "\n",
       "    .dataframe thead th {\n",
       "        text-align: right;\n",
       "    }\n",
       "</style>\n",
       "<table border=\"1\" class=\"dataframe\">\n",
       "  <thead>\n",
       "    <tr style=\"text-align: right;\">\n",
       "      <th>Ano</th>\n",
       "      <th>2009</th>\n",
       "      <th>2019</th>\n",
       "    </tr>\n",
       "  </thead>\n",
       "  <tbody>\n",
       "    <tr>\n",
       "      <th>Situação != Em exercício</th>\n",
       "      <td>18272</td>\n",
       "      <td>13355</td>\n",
       "    </tr>\n",
       "    <tr>\n",
       "      <th>Raça = Não dispõe da informação</th>\n",
       "      <td>64217</td>\n",
       "      <td>0</td>\n",
       "    </tr>\n",
       "    <tr>\n",
       "      <th>Raça = Não quis declarar</th>\n",
       "      <td>78466</td>\n",
       "      <td>118232</td>\n",
       "    </tr>\n",
       "    <tr>\n",
       "      <th>Categoria Administrativa = Especial</th>\n",
       "      <td>0</td>\n",
       "      <td>1893</td>\n",
       "    </tr>\n",
       "  </tbody>\n",
       "</table>\n",
       "</div>"
      ],
      "text/plain": [
       "Ano                                   2009    2019\n",
       "Situação != Em exercício             18272   13355\n",
       "Raça = Não dispõe da informação      64217       0\n",
       "Raça = Não quis declarar             78466  118232\n",
       "Categoria Administrativa = Especial      0    1893"
      ]
     },
     "execution_count": 5,
     "metadata": {},
     "output_type": "execute_result"
    }
   ],
   "source": [
    "cond1_counts = original_df[original_df['Situação'] != 'Em exercício'].groupby('Ano').size()\n",
    "cond2_counts = original_df[original_df['Raça'] == 'Não dispõe da informação'].groupby('Ano').size()\n",
    "cond3_counts = original_df[original_df['Raça'] == 'Não quis declarar'].groupby('Ano').size()\n",
    "cond4_counts = original_df[original_df['Categoria Administrativa'] == 'Especial'].groupby('Ano').size()\n",
    "\n",
    "# Crie um DataFrame com os resultados no formato solicitado\n",
    "counts_2009_2019 = pd.DataFrame({\n",
    "    'Ano': [2009, 2019],\n",
    "    'Situação != Em exercício': [cond1_counts.get(2009, 0), cond1_counts.get(2019, 0)],\n",
    "    'Raça = Não dispõe da informação': [cond2_counts.get(2009, 0), cond2_counts.get(2019, 0)],\n",
    "    'Raça = Não quis declarar': [cond3_counts.get(2009, 0), cond3_counts.get(2019, 0)],\n",
    "    'Categoria Administrativa = Especial': [cond4_counts.get(2009, 0), cond4_counts.get(2019, 0)]\n",
    "}).set_index('Ano').transpose()\n",
    "\n",
    "counts_2009_2019"
   ]
  },
  {
   "cell_type": "code",
   "execution_count": 6,
   "id": "35d68fd6-ca0a-4ab6-8c13-8e03a74b9ea5",
   "metadata": {
    "tags": []
   },
   "outputs": [
    {
     "data": {
      "text/html": [
       "<div>\n",
       "<style scoped>\n",
       "    .dataframe tbody tr th:only-of-type {\n",
       "        vertical-align: middle;\n",
       "    }\n",
       "\n",
       "    .dataframe tbody tr th {\n",
       "        vertical-align: top;\n",
       "    }\n",
       "\n",
       "    .dataframe thead th {\n",
       "        text-align: right;\n",
       "    }\n",
       "</style>\n",
       "<table border=\"1\" class=\"dataframe\">\n",
       "  <thead>\n",
       "    <tr style=\"text-align: right;\">\n",
       "      <th></th>\n",
       "      <th>Ano</th>\n",
       "      <th>Quantidade</th>\n",
       "      <th>Desconsiderados</th>\n",
       "      <th>%</th>\n",
       "      <th>Universo de análise</th>\n",
       "    </tr>\n",
       "  </thead>\n",
       "  <tbody>\n",
       "    <tr>\n",
       "      <th>0</th>\n",
       "      <td>2009</td>\n",
       "      <td>359089</td>\n",
       "      <td>152892</td>\n",
       "      <td>0.425777</td>\n",
       "      <td>206197</td>\n",
       "    </tr>\n",
       "    <tr>\n",
       "      <th>1</th>\n",
       "      <td>2019</td>\n",
       "      <td>399428</td>\n",
       "      <td>127978</td>\n",
       "      <td>0.320403</td>\n",
       "      <td>271450</td>\n",
       "    </tr>\n",
       "  </tbody>\n",
       "</table>\n",
       "</div>"
      ],
      "text/plain": [
       "    Ano  Quantidade  Desconsiderados         %  Universo de análise\n",
       "0  2009      359089           152892  0.425777               206197\n",
       "1  2019      399428           127978  0.320403               271450"
      ]
     },
     "execution_count": 6,
     "metadata": {},
     "output_type": "execute_result"
    }
   ],
   "source": [
    "quantity_2009 = len(original_df[original_df['Ano'] == 2009])\n",
    "quantity_2019 = len(original_df[original_df['Ano'] == 2019])\n",
    "\n",
    "analysis_universe_2009 = len(df[df['Ano'] == 2009])\n",
    "analysis_universe_2019 = len(df[df['Ano'] == 2019])\n",
    "\n",
    "diresgarded_2009 = quantity_2009 - analysis_universe_2009\n",
    "diresgarded_2019 = quantity_2019 - analysis_universe_2019\n",
    "\n",
    "total = quantity_2009 + quantity_2019\n",
    "\n",
    "original_quantities = pd.DataFrame({\n",
    "    'Ano': [2009, 2019],\n",
    "    'Quantidade': [quantity_2009, quantity_2019],\n",
    "    'Desconsiderados': [diresgarded_2009, diresgarded_2019],\n",
    "    '%': [ (diresgarded_2009 / quantity_2009), ((diresgarded_2019/quantity_2019))],\n",
    "    'Universo de análise': [analysis_universe_2009, analysis_universe_2019]\n",
    "})\n",
    "\n",
    "original_quantities"
   ]
  },
  {
   "cell_type": "markdown",
   "id": "ee385e9d-a562-4ec1-b6fe-0f07a34f371c",
   "metadata": {
    "tags": []
   },
   "source": [
    "### Observações gerais sobre a base"
   ]
  },
  {
   "cell_type": "code",
   "execution_count": 7,
   "id": "0d40d78d-7a17-414e-acd1-a43a5b6ff2be",
   "metadata": {
    "tags": []
   },
   "outputs": [
    {
     "name": "stderr",
     "output_type": "stream",
     "text": [
      "C:\\Users\\thais\\AppData\\Local\\Temp\\ipykernel_18400\\3093697293.py:1: SettingWithCopyWarning: \n",
      "A value is trying to be set on a copy of a slice from a DataFrame.\n",
      "Try using .loc[row_indexer,col_indexer] = value instead\n",
      "\n",
      "See the caveats in the documentation: https://pandas.pydata.org/pandas-docs/stable/user_guide/indexing.html#returning-a-view-versus-a-copy\n",
      "  df['Pública'] = df['Categoria Administrativa'].isin(public_values)\n"
     ]
    },
    {
     "data": {
      "text/html": [
       "<div>\n",
       "<style scoped>\n",
       "    .dataframe tbody tr th:only-of-type {\n",
       "        vertical-align: middle;\n",
       "    }\n",
       "\n",
       "    .dataframe tbody tr th {\n",
       "        vertical-align: top;\n",
       "    }\n",
       "\n",
       "    .dataframe thead th {\n",
       "        text-align: right;\n",
       "    }\n",
       "</style>\n",
       "<table border=\"1\" class=\"dataframe\">\n",
       "  <thead>\n",
       "    <tr style=\"text-align: right;\">\n",
       "      <th>Categoria Administrativa</th>\n",
       "      <th>Estadual</th>\n",
       "      <th>Municipal</th>\n",
       "      <th>Federal</th>\n",
       "      <th>Pública</th>\n",
       "      <th>Privada</th>\n",
       "      <th>Total</th>\n",
       "    </tr>\n",
       "    <tr>\n",
       "      <th>Ano</th>\n",
       "      <th></th>\n",
       "      <th></th>\n",
       "      <th></th>\n",
       "      <th></th>\n",
       "      <th></th>\n",
       "      <th></th>\n",
       "    </tr>\n",
       "  </thead>\n",
       "  <tbody>\n",
       "    <tr>\n",
       "      <th>2009</th>\n",
       "      <td>21857</td>\n",
       "      <td>6401</td>\n",
       "      <td>27725</td>\n",
       "      <td>55983</td>\n",
       "      <td>150214</td>\n",
       "      <td>206197</td>\n",
       "    </tr>\n",
       "    <tr>\n",
       "      <th>2019</th>\n",
       "      <td>31672</td>\n",
       "      <td>4142</td>\n",
       "      <td>67800</td>\n",
       "      <td>103614</td>\n",
       "      <td>167836</td>\n",
       "      <td>271450</td>\n",
       "    </tr>\n",
       "  </tbody>\n",
       "</table>\n",
       "</div>"
      ],
      "text/plain": [
       "Categoria Administrativa  Estadual  Municipal  Federal  Pública  Privada  \\\n",
       "Ano                                                                        \n",
       "2009                         21857       6401    27725    55983   150214   \n",
       "2019                         31672       4142    67800   103614   167836   \n",
       "\n",
       "Categoria Administrativa   Total  \n",
       "Ano                               \n",
       "2009                      206197  \n",
       "2019                      271450  "
      ]
     },
     "execution_count": 7,
     "metadata": {},
     "output_type": "execute_result"
    }
   ],
   "source": [
    "df['Pública'] = df['Categoria Administrativa'].isin(public_values)\n",
    "\n",
    "# Usando a função groupby() para agrupar os dados por ano e categoria administrativa\n",
    "count = df.groupby(['Ano', 'Categoria Administrativa']).size()\n",
    "\n",
    "# Usando a função unstack() para transformar os dados em formato de tabela\n",
    "table = count.unstack('Categoria Administrativa', fill_value=0)\n",
    "\n",
    "# Somando\n",
    "table['Pública'] = table['Estadual'] + table['Municipal'] + table['Federal']\n",
    "table['Total'] = table['Pública'] + table['Privada']\n",
    "\n",
    "# Selecionando apenas as colunas desejadas\n",
    "table = table[['Estadual', 'Municipal', 'Federal', 'Pública', 'Privada', 'Total']]\n",
    "\n",
    "# Exibindo o resultado\n",
    "table\n"
   ]
  },
  {
   "cell_type": "markdown",
   "id": "0ded3ef1-b6d6-41dc-99ed-a7df740a4836",
   "metadata": {
    "tags": []
   },
   "source": [
    "### Qual a presença de docentes por raça?"
   ]
  },
  {
   "cell_type": "code",
   "execution_count": 8,
   "id": "070fa914-aecc-477c-b98c-618ab6621bbf",
   "metadata": {
    "tags": []
   },
   "outputs": [
    {
     "data": {
      "text/html": [
       "<div>\n",
       "<style scoped>\n",
       "    .dataframe tbody tr th:only-of-type {\n",
       "        vertical-align: middle;\n",
       "    }\n",
       "\n",
       "    .dataframe tbody tr th {\n",
       "        vertical-align: top;\n",
       "    }\n",
       "\n",
       "    .dataframe thead th {\n",
       "        text-align: right;\n",
       "    }\n",
       "</style>\n",
       "<table border=\"1\" class=\"dataframe\">\n",
       "  <thead>\n",
       "    <tr style=\"text-align: right;\">\n",
       "      <th></th>\n",
       "      <th>Raça</th>\n",
       "      <th>2009</th>\n",
       "      <th>2019</th>\n",
       "      <th>Evolução (%)</th>\n",
       "      <th>Aumento Percentual (%)</th>\n",
       "    </tr>\n",
       "  </thead>\n",
       "  <tbody>\n",
       "    <tr>\n",
       "      <th>0</th>\n",
       "      <td>Amarela</td>\n",
       "      <td>1.89</td>\n",
       "      <td>1.98</td>\n",
       "      <td>0.09</td>\n",
       "      <td>4.76</td>\n",
       "    </tr>\n",
       "    <tr>\n",
       "      <th>1</th>\n",
       "      <td>Branca</td>\n",
       "      <td>80.29</td>\n",
       "      <td>72.28</td>\n",
       "      <td>-8.01</td>\n",
       "      <td>-9.98</td>\n",
       "    </tr>\n",
       "    <tr>\n",
       "      <th>2</th>\n",
       "      <td>Indígena</td>\n",
       "      <td>0.21</td>\n",
       "      <td>0.29</td>\n",
       "      <td>0.08</td>\n",
       "      <td>38.10</td>\n",
       "    </tr>\n",
       "    <tr>\n",
       "      <th>3</th>\n",
       "      <td>Parda</td>\n",
       "      <td>15.08</td>\n",
       "      <td>21.61</td>\n",
       "      <td>6.53</td>\n",
       "      <td>43.30</td>\n",
       "    </tr>\n",
       "    <tr>\n",
       "      <th>4</th>\n",
       "      <td>Preta</td>\n",
       "      <td>2.52</td>\n",
       "      <td>3.83</td>\n",
       "      <td>1.31</td>\n",
       "      <td>51.98</td>\n",
       "    </tr>\n",
       "  </tbody>\n",
       "</table>\n",
       "</div>"
      ],
      "text/plain": [
       "       Raça   2009   2019  Evolução (%)  Aumento Percentual (%)\n",
       "0   Amarela   1.89   1.98          0.09                    4.76\n",
       "1    Branca  80.29  72.28         -8.01                   -9.98\n",
       "2  Indígena   0.21   0.29          0.08                   38.10\n",
       "3     Parda  15.08  21.61          6.53                   43.30\n",
       "4     Preta   2.52   3.83          1.31                   51.98"
      ]
     },
     "execution_count": 8,
     "metadata": {},
     "output_type": "execute_result"
    }
   ],
   "source": [
    "public_teachers_by_race, public_teachers_evolution_by_race, count_public_teachers_by_race_and_year = create_table_by_segregators(df[df['Pública'] == True], segregators=['Raça'])\n",
    "public_teachers_evolution_by_race"
   ]
  },
  {
   "cell_type": "code",
   "execution_count": 9,
   "id": "2a3d49cd-0c31-4464-9f20-d05505fc02bd",
   "metadata": {
    "tags": []
   },
   "outputs": [
    {
     "data": {
      "text/html": [
       "<div>\n",
       "<style scoped>\n",
       "    .dataframe tbody tr th:only-of-type {\n",
       "        vertical-align: middle;\n",
       "    }\n",
       "\n",
       "    .dataframe tbody tr th {\n",
       "        vertical-align: top;\n",
       "    }\n",
       "\n",
       "    .dataframe thead th {\n",
       "        text-align: right;\n",
       "    }\n",
       "</style>\n",
       "<table border=\"1\" class=\"dataframe\">\n",
       "  <thead>\n",
       "    <tr style=\"text-align: right;\">\n",
       "      <th></th>\n",
       "      <th>Raça</th>\n",
       "      <th>2009</th>\n",
       "      <th>2019</th>\n",
       "      <th>Evolução (%)</th>\n",
       "      <th>Aumento Percentual (%)</th>\n",
       "    </tr>\n",
       "  </thead>\n",
       "  <tbody>\n",
       "    <tr>\n",
       "      <th>0</th>\n",
       "      <td>Amarela</td>\n",
       "      <td>1.03</td>\n",
       "      <td>1.12</td>\n",
       "      <td>0.09</td>\n",
       "      <td>8.74</td>\n",
       "    </tr>\n",
       "    <tr>\n",
       "      <th>1</th>\n",
       "      <td>Branca</td>\n",
       "      <td>81.12</td>\n",
       "      <td>76.31</td>\n",
       "      <td>-4.81</td>\n",
       "      <td>-5.93</td>\n",
       "    </tr>\n",
       "    <tr>\n",
       "      <th>2</th>\n",
       "      <td>Indígena</td>\n",
       "      <td>0.22</td>\n",
       "      <td>0.11</td>\n",
       "      <td>-0.11</td>\n",
       "      <td>-50.00</td>\n",
       "    </tr>\n",
       "    <tr>\n",
       "      <th>3</th>\n",
       "      <td>Parda</td>\n",
       "      <td>15.88</td>\n",
       "      <td>20.19</td>\n",
       "      <td>4.31</td>\n",
       "      <td>27.14</td>\n",
       "    </tr>\n",
       "    <tr>\n",
       "      <th>4</th>\n",
       "      <td>Preta</td>\n",
       "      <td>1.76</td>\n",
       "      <td>2.27</td>\n",
       "      <td>0.51</td>\n",
       "      <td>28.98</td>\n",
       "    </tr>\n",
       "  </tbody>\n",
       "</table>\n",
       "</div>"
      ],
      "text/plain": [
       "       Raça   2009   2019  Evolução (%)  Aumento Percentual (%)\n",
       "0   Amarela   1.03   1.12          0.09                    8.74\n",
       "1    Branca  81.12  76.31         -4.81                   -5.93\n",
       "2  Indígena   0.22   0.11         -0.11                  -50.00\n",
       "3     Parda  15.88  20.19          4.31                   27.14\n",
       "4     Preta   1.76   2.27          0.51                   28.98"
      ]
     },
     "execution_count": 9,
     "metadata": {},
     "output_type": "execute_result"
    }
   ],
   "source": [
    "private_teachers_by_race, private_teachers_evolution_by_race, count_private_teachers_by_race_and_year = create_table_by_segregators(df[df['Categoria Administrativa'] == 'Privada'], segregators=['Raça'])\n",
    "private_teachers_evolution_by_race"
   ]
  },
  {
   "cell_type": "code",
   "execution_count": 10,
   "id": "6c061b0a-27d7-4ccb-91b4-2df2e0cd6576",
   "metadata": {
    "tags": []
   },
   "outputs": [
    {
     "data": {
      "text/html": [
       "<div>\n",
       "<style scoped>\n",
       "    .dataframe tbody tr th:only-of-type {\n",
       "        vertical-align: middle;\n",
       "    }\n",
       "\n",
       "    .dataframe tbody tr th {\n",
       "        vertical-align: top;\n",
       "    }\n",
       "\n",
       "    .dataframe thead th {\n",
       "        text-align: right;\n",
       "    }\n",
       "</style>\n",
       "<table border=\"1\" class=\"dataframe\">\n",
       "  <thead>\n",
       "    <tr style=\"text-align: right;\">\n",
       "      <th></th>\n",
       "      <th>Raça</th>\n",
       "      <th>2009</th>\n",
       "      <th>2019</th>\n",
       "      <th>Evolução (%)</th>\n",
       "      <th>Aumento Percentual (%)</th>\n",
       "    </tr>\n",
       "  </thead>\n",
       "  <tbody>\n",
       "    <tr>\n",
       "      <th>0</th>\n",
       "      <td>Amarela</td>\n",
       "      <td>1.53</td>\n",
       "      <td>1.88</td>\n",
       "      <td>0.35</td>\n",
       "      <td>22.88</td>\n",
       "    </tr>\n",
       "    <tr>\n",
       "      <th>1</th>\n",
       "      <td>Branca</td>\n",
       "      <td>78.03</td>\n",
       "      <td>69.74</td>\n",
       "      <td>-8.29</td>\n",
       "      <td>-10.62</td>\n",
       "    </tr>\n",
       "    <tr>\n",
       "      <th>2</th>\n",
       "      <td>Indígena</td>\n",
       "      <td>0.22</td>\n",
       "      <td>0.33</td>\n",
       "      <td>0.11</td>\n",
       "      <td>50.00</td>\n",
       "    </tr>\n",
       "    <tr>\n",
       "      <th>3</th>\n",
       "      <td>Parda</td>\n",
       "      <td>17.20</td>\n",
       "      <td>23.83</td>\n",
       "      <td>6.63</td>\n",
       "      <td>38.55</td>\n",
       "    </tr>\n",
       "    <tr>\n",
       "      <th>4</th>\n",
       "      <td>Preta</td>\n",
       "      <td>3.02</td>\n",
       "      <td>4.21</td>\n",
       "      <td>1.19</td>\n",
       "      <td>39.40</td>\n",
       "    </tr>\n",
       "  </tbody>\n",
       "</table>\n",
       "</div>"
      ],
      "text/plain": [
       "       Raça   2009   2019  Evolução (%)  Aumento Percentual (%)\n",
       "0   Amarela   1.53   1.88          0.35                   22.88\n",
       "1    Branca  78.03  69.74         -8.29                  -10.62\n",
       "2  Indígena   0.22   0.33          0.11                   50.00\n",
       "3     Parda  17.20  23.83          6.63                   38.55\n",
       "4     Preta   3.02   4.21          1.19                   39.40"
      ]
     },
     "execution_count": 10,
     "metadata": {},
     "output_type": "execute_result"
    }
   ],
   "source": [
    "federal_teachers_by_race, federal_teachers_evolution_by_race, count_federal_teachers_by_race_and_year = create_table_by_segregators(df[df['Categoria Administrativa'] == 'Federal'], segregators=['Raça'])\n",
    "federal_teachers_evolution_by_race"
   ]
  },
  {
   "cell_type": "code",
   "execution_count": 11,
   "id": "801fc79c-0f8c-4afd-a120-ac762ecf8acf",
   "metadata": {
    "tags": []
   },
   "outputs": [
    {
     "data": {
      "image/png": "[encoded data removed]",
      "text/plain": [
       "<Figure size 400x300 with 1 Axes>"
      ]
     },
     "metadata": {},
     "output_type": "display_data"
    }
   ],
   "source": [
    "palette = {'Amarela': '#555', 'Branca': '#666', 'Preta': '#777', 'Parda': '#888', 'Indígena': '#999'} \n",
    "plot_evolution_graph(public_teachers_evolution_by_race, 'Raça', palette=palette)"
   ]
  },
  {
   "cell_type": "code",
   "execution_count": 12,
   "id": "7b3c156f-fab6-4fc7-8b81-403b904d964f",
   "metadata": {
    "tags": []
   },
   "outputs": [
    {
     "data": {
      "image/png": "[encoded data removed]",
      "text/plain": [
       "<Figure size 400x300 with 1 Axes>"
      ]
     },
     "metadata": {},
     "output_type": "display_data"
    }
   ],
   "source": [
    "palette = {'Amarela': '#555', 'Branca': '#666', 'Preta': '#777', 'Parda': '#888', 'Indígena': '#999'} \n",
    "plot_evolution_graph(private_teachers_evolution_by_race, 'Raça', palette=palette)  "
   ]
  },
  {
   "cell_type": "code",
   "execution_count": 13,
   "id": "8d2df244-4af1-4fcf-8dce-25cb5e7970bf",
   "metadata": {
    "tags": []
   },
   "outputs": [
    {
     "data": {
      "image/png": "[encoded data removed]",
      "text/plain": [
       "<Figure size 2000x300 with 5 Axes>"
      ]
     },
     "metadata": {},
     "output_type": "display_data"
    }
   ],
   "source": [
    "import numpy as np\n",
    "# Lista das raças\n",
    "\n",
    "def create_race_by_scolarship_graph(df):\n",
    "    racas = ['Amarela', 'Branca', 'Indígena', 'Parda', 'Preta']\n",
    "\n",
    "    # Cria a figura e os eixos (subplots)\n",
    "    fig, axs = plt.subplots(1, len(racas), figsize=(20, 3))  # Altere aqui para (1, len(racas))\n",
    "\n",
    "    # Largura das barras\n",
    "    bar_width = 0.15\n",
    "\n",
    "    # Função para criar as posições das barras para cada ano\n",
    "    def get_bar_positions(n, bar_width, group_spacing, bar_spacing):\n",
    "        positions = []\n",
    "        for i in range(n):\n",
    "            group_start = i * (group_spacing + bar_width)\n",
    "            positions.append([group_start + j * (bar_width + bar_spacing) for j in range(4)])\n",
    "        return np.array(positions)\n",
    "\n",
    "    # Posição das barras no eixo X\n",
    "    pos = get_bar_positions(2, bar_width, 1, 0.1)\n",
    "\n",
    "    # Cores para as barras\n",
    "    colors = ['tab:blue', 'tab:orange', 'tab:green', 'tab:red']\n",
    "\n",
    "    # Ordem das escolaridades\n",
    "    escolaridades = ['Graduação', 'Especialização', 'Mestrado', 'Doutorado']\n",
    "\n",
    "    for i, raca in enumerate(racas):\n",
    "        # Filtra o dataframe pela raça e pelos anos 2009 e 2019\n",
    "        df_filtrado = df[(df['Raça'] == raca) & (df['Ano'].isin([2009, 2019]))]\n",
    "\n",
    "        # Separa os dados por ano\n",
    "        df_2009 = df_filtrado[df_filtrado['Ano'] == 2009]\n",
    "        df_2019 = df_filtrado[df_filtrado['Ano'] == 2019]\n",
    "\n",
    "        # Cria as barras para 2009 e 2019 na ordem desejada\n",
    "        for j, escolaridade in enumerate(escolaridades):\n",
    "            label = escolaridade if i == 0 else None\n",
    "            if df_2009[df_2009['Escolaridade'] == escolaridade]['Porcentagem'].values.size > 0:\n",
    "                axs[i].bar(pos[0, j], df_2009[df_2009['Escolaridade'] == escolaridade]['Porcentagem'].values[0], width=bar_width, color=colors[j], label=label)\n",
    "            if df_2019[df_2019['Escolaridade'] == escolaridade]['Porcentagem'].values.size > 0:\n",
    "                axs[i].bar(pos[1, j], df_2019[df_2019['Escolaridade'] == escolaridade]['Porcentagem'].values[0], width=bar_width, color=colors[j])\n",
    "\n",
    "        # Define os rótulos do eixo X e o título do gráfico\n",
    "        axs[i].set_xticks(pos.mean(axis=1))\n",
    "        axs[i].set_xticklabels(['2009', '2019'], fontsize=18)\n",
    "        axs[i].set_title(f'{raca}', fontsize=18)\n",
    "\n",
    "    # Adiciona a legenda fora do gráfico à direita de todos os gráficos\n",
    "    handles, labels = axs[0].get_legend_handles_labels()\n",
    "    fig.legend(handles, labels, loc='center right', bbox_to_anchor=(1.08, 0.5))\n",
    "\n",
    "    # Ajusta o layout para evitar sobreposição de elementos\n",
    "    fig.tight_layout()\n",
    "\n",
    "    # Exibe o gráfico\n",
    "    plt.show()\n",
    "\n",
    "_, _, count_public_by_race_and_scolarship_and_year  = create_table_by_segregators(df[(df['Escolaridade'] != 'Sem graduação') & (df['Pública'] == True)], segregators=['Raça', 'Escolaridade'], total_references=['Raça'])\n",
    "_, _, count_private_by_race_and_scolarship_and_year = create_table_by_segregators(df[(df['Escolaridade'] != 'Sem graduação') & (df['Pública'] == False)], segregators=['Raça', 'Escolaridade'], total_references=['Raça'])\n",
    "_, _, count_federals_by_race_and_scolarship_and_year = create_table_by_segregators(df[(df['Escolaridade'] != 'Sem graduação') & (df['Categoria Administrativa'] == 'Federal')], segregators=['Raça', 'Escolaridade'], total_references=['Raça'])\n",
    "create_race_by_scolarship_graph(count_public_by_race_and_scolarship_and_year)"
   ]
  },
  {
   "cell_type": "code",
   "execution_count": 14,
   "id": "1e1dba19-71ba-4f54-9827-62ceafdd20ea",
   "metadata": {
    "tags": []
   },
   "outputs": [
    {
     "data": {
      "image/png": "[encoded data removed]",
      "text/plain": [
       "<Figure size 2000x300 with 5 Axes>"
      ]
     },
     "metadata": {},
     "output_type": "display_data"
    }
   ],
   "source": [
    "create_race_by_scolarship_graph(count_private_by_race_and_scolarship_and_year)"
   ]
  },
  {
   "cell_type": "code",
   "execution_count": 15,
   "id": "1fdbdcdc-d2bd-402e-96e8-f1c17d97615b",
   "metadata": {
    "tags": []
   },
   "outputs": [
    {
     "data": {
      "image/png": "[encoded data removed]",
      "text/plain": [
       "<Figure size 2000x300 with 5 Axes>"
      ]
     },
     "metadata": {},
     "output_type": "display_data"
    }
   ],
   "source": [
    "create_race_by_scolarship_graph(count_federals_by_race_and_scolarship_and_year)"
   ]
  },
  {
   "cell_type": "markdown",
   "id": "526a8af9-f211-4e2a-b5c9-6eb4b425a07a",
   "metadata": {},
   "source": [
    "## Qual a presença de docentes com bolsa de pesquisa?"
   ]
  },
  {
   "cell_type": "code",
   "execution_count": 16,
   "id": "a9def809-40df-4f80-8897-38dec2d4973f",
   "metadata": {
    "tags": []
   },
   "outputs": [
    {
     "data": {
      "text/html": [
       "<div>\n",
       "<style scoped>\n",
       "    .dataframe tbody tr th:only-of-type {\n",
       "        vertical-align: middle;\n",
       "    }\n",
       "\n",
       "    .dataframe tbody tr th {\n",
       "        vertical-align: top;\n",
       "    }\n",
       "\n",
       "    .dataframe thead th {\n",
       "        text-align: right;\n",
       "    }\n",
       "</style>\n",
       "<table border=\"1\" class=\"dataframe\">\n",
       "  <thead>\n",
       "    <tr style=\"text-align: right;\">\n",
       "      <th></th>\n",
       "      <th>Raça</th>\n",
       "      <th>2009</th>\n",
       "      <th>2019</th>\n",
       "      <th>Evolução (%)</th>\n",
       "      <th>Aumento Percentual (%)</th>\n",
       "    </tr>\n",
       "  </thead>\n",
       "  <tbody>\n",
       "    <tr>\n",
       "      <th>0</th>\n",
       "      <td>Amarela</td>\n",
       "      <td>3.23</td>\n",
       "      <td>2.00</td>\n",
       "      <td>-1.23</td>\n",
       "      <td>-38.08</td>\n",
       "    </tr>\n",
       "    <tr>\n",
       "      <th>1</th>\n",
       "      <td>Branca</td>\n",
       "      <td>88.59</td>\n",
       "      <td>80.36</td>\n",
       "      <td>-8.23</td>\n",
       "      <td>-9.29</td>\n",
       "    </tr>\n",
       "    <tr>\n",
       "      <th>2</th>\n",
       "      <td>Indígena</td>\n",
       "      <td>0.14</td>\n",
       "      <td>0.15</td>\n",
       "      <td>0.01</td>\n",
       "      <td>7.14</td>\n",
       "    </tr>\n",
       "    <tr>\n",
       "      <th>3</th>\n",
       "      <td>Parda</td>\n",
       "      <td>6.51</td>\n",
       "      <td>14.36</td>\n",
       "      <td>7.85</td>\n",
       "      <td>120.58</td>\n",
       "    </tr>\n",
       "    <tr>\n",
       "      <th>4</th>\n",
       "      <td>Preta</td>\n",
       "      <td>1.52</td>\n",
       "      <td>3.12</td>\n",
       "      <td>1.60</td>\n",
       "      <td>105.26</td>\n",
       "    </tr>\n",
       "  </tbody>\n",
       "</table>\n",
       "</div>"
      ],
      "text/plain": [
       "       Raça   2009   2019  Evolução (%)  Aumento Percentual (%)\n",
       "0   Amarela   3.23   2.00         -1.23                  -38.08\n",
       "1    Branca  88.59  80.36         -8.23                   -9.29\n",
       "2  Indígena   0.14   0.15          0.01                    7.14\n",
       "3     Parda   6.51  14.36          7.85                  120.58\n",
       "4     Preta   1.52   3.12          1.60                  105.26"
      ]
     },
     "execution_count": 16,
     "metadata": {},
     "output_type": "execute_result"
    }
   ],
   "source": [
    "teachers_by_research_grant, teachers_evolution_by_research_grant, count_by_research_grant_and_year = create_table_by_segregators(df[(df['Bolsa Pesquisa'] == True) & (df['Pública'] == True)], segregators=['Raça'])\n",
    "#plot_slope_graph(x='Ano', hue=\"Raça\", y=\"Porcentagem\", figsize=(4, 4), size=10, data=count_by_research_grant_and_year)\n",
    "teachers_evolution_by_research_grant"
   ]
  },
  {
   "cell_type": "code",
   "execution_count": 17,
   "id": "37f076b7-256d-4076-aa49-7c3a5c84928a",
   "metadata": {
    "tags": []
   },
   "outputs": [
    {
     "data": {
      "text/html": [
       "<div>\n",
       "<style scoped>\n",
       "    .dataframe tbody tr th:only-of-type {\n",
       "        vertical-align: middle;\n",
       "    }\n",
       "\n",
       "    .dataframe tbody tr th {\n",
       "        vertical-align: top;\n",
       "    }\n",
       "\n",
       "    .dataframe thead th {\n",
       "        text-align: right;\n",
       "    }\n",
       "</style>\n",
       "<table border=\"1\" class=\"dataframe\">\n",
       "  <thead>\n",
       "    <tr style=\"text-align: right;\">\n",
       "      <th></th>\n",
       "      <th>Raça</th>\n",
       "      <th>2009</th>\n",
       "      <th>2019</th>\n",
       "      <th>Evolução (%)</th>\n",
       "      <th>Aumento Percentual (%)</th>\n",
       "    </tr>\n",
       "  </thead>\n",
       "  <tbody>\n",
       "    <tr>\n",
       "      <th>0</th>\n",
       "      <td>Amarela</td>\n",
       "      <td>1.01</td>\n",
       "      <td>1.14</td>\n",
       "      <td>0.13</td>\n",
       "      <td>12.87</td>\n",
       "    </tr>\n",
       "    <tr>\n",
       "      <th>1</th>\n",
       "      <td>Branca</td>\n",
       "      <td>87.40</td>\n",
       "      <td>82.81</td>\n",
       "      <td>-4.59</td>\n",
       "      <td>-5.25</td>\n",
       "    </tr>\n",
       "    <tr>\n",
       "      <th>2</th>\n",
       "      <td>Indígena</td>\n",
       "      <td>0.07</td>\n",
       "      <td>0.16</td>\n",
       "      <td>0.09</td>\n",
       "      <td>128.57</td>\n",
       "    </tr>\n",
       "    <tr>\n",
       "      <th>3</th>\n",
       "      <td>Parda</td>\n",
       "      <td>10.17</td>\n",
       "      <td>13.99</td>\n",
       "      <td>3.82</td>\n",
       "      <td>37.56</td>\n",
       "    </tr>\n",
       "    <tr>\n",
       "      <th>4</th>\n",
       "      <td>Preta</td>\n",
       "      <td>1.35</td>\n",
       "      <td>1.89</td>\n",
       "      <td>0.54</td>\n",
       "      <td>40.00</td>\n",
       "    </tr>\n",
       "  </tbody>\n",
       "</table>\n",
       "</div>"
      ],
      "text/plain": [
       "       Raça   2009   2019  Evolução (%)  Aumento Percentual (%)\n",
       "0   Amarela   1.01   1.14          0.13                   12.87\n",
       "1    Branca  87.40  82.81         -4.59                   -5.25\n",
       "2  Indígena   0.07   0.16          0.09                  128.57\n",
       "3     Parda  10.17  13.99          3.82                   37.56\n",
       "4     Preta   1.35   1.89          0.54                   40.00"
      ]
     },
     "execution_count": 17,
     "metadata": {},
     "output_type": "execute_result"
    }
   ],
   "source": [
    "teachers_by_research_grant, teachers_evolution_by_research_grant, count_by_research_grant_and_year = create_table_by_segregators(df[(df['Bolsa Pesquisa'] == True) & (df['Categoria Administrativa'] == 'Privada')], segregators=['Raça'])\n",
    "#plot_slope_graph(x='Ano', hue=\"Raça\", y=\"Porcentagem\", figsize=(4, 4), size=10, data=count_by_research_grant_and_year)\n",
    "teachers_evolution_by_research_grant"
   ]
  },
  {
   "cell_type": "code",
   "execution_count": 18,
   "id": "48970913-0d44-4381-90be-ff839a779c53",
   "metadata": {
    "tags": []
   },
   "outputs": [
    {
     "data": {
      "text/html": [
       "<div>\n",
       "<style scoped>\n",
       "    .dataframe tbody tr th:only-of-type {\n",
       "        vertical-align: middle;\n",
       "    }\n",
       "\n",
       "    .dataframe tbody tr th {\n",
       "        vertical-align: top;\n",
       "    }\n",
       "\n",
       "    .dataframe thead th {\n",
       "        text-align: right;\n",
       "    }\n",
       "</style>\n",
       "<table border=\"1\" class=\"dataframe\">\n",
       "  <thead>\n",
       "    <tr style=\"text-align: right;\">\n",
       "      <th></th>\n",
       "      <th>Raça</th>\n",
       "      <th>2009</th>\n",
       "      <th>2019</th>\n",
       "      <th>Evolução (%)</th>\n",
       "      <th>Aumento Percentual (%)</th>\n",
       "    </tr>\n",
       "  </thead>\n",
       "  <tbody>\n",
       "    <tr>\n",
       "      <th>0</th>\n",
       "      <td>Amarela</td>\n",
       "      <td>3.00</td>\n",
       "      <td>1.96</td>\n",
       "      <td>-1.04</td>\n",
       "      <td>-34.67</td>\n",
       "    </tr>\n",
       "    <tr>\n",
       "      <th>1</th>\n",
       "      <td>Branca</td>\n",
       "      <td>83.78</td>\n",
       "      <td>72.58</td>\n",
       "      <td>-11.20</td>\n",
       "      <td>-13.37</td>\n",
       "    </tr>\n",
       "    <tr>\n",
       "      <th>2</th>\n",
       "      <td>Indígena</td>\n",
       "      <td>0.29</td>\n",
       "      <td>0.21</td>\n",
       "      <td>-0.08</td>\n",
       "      <td>-27.59</td>\n",
       "    </tr>\n",
       "    <tr>\n",
       "      <th>3</th>\n",
       "      <td>Parda</td>\n",
       "      <td>10.69</td>\n",
       "      <td>22.23</td>\n",
       "      <td>11.54</td>\n",
       "      <td>107.95</td>\n",
       "    </tr>\n",
       "    <tr>\n",
       "      <th>4</th>\n",
       "      <td>Preta</td>\n",
       "      <td>2.23</td>\n",
       "      <td>3.02</td>\n",
       "      <td>0.79</td>\n",
       "      <td>35.43</td>\n",
       "    </tr>\n",
       "  </tbody>\n",
       "</table>\n",
       "</div>"
      ],
      "text/plain": [
       "       Raça   2009   2019  Evolução (%)  Aumento Percentual (%)\n",
       "0   Amarela   3.00   1.96         -1.04                  -34.67\n",
       "1    Branca  83.78  72.58        -11.20                  -13.37\n",
       "2  Indígena   0.29   0.21         -0.08                  -27.59\n",
       "3     Parda  10.69  22.23         11.54                  107.95\n",
       "4     Preta   2.23   3.02          0.79                   35.43"
      ]
     },
     "execution_count": 18,
     "metadata": {},
     "output_type": "execute_result"
    }
   ],
   "source": [
    "teachers_by_research_grant, teachers_evolution_by_research_grant, count_by_research_grant_and_year = create_table_by_segregators(df[(df['Bolsa Pesquisa'] == True) & (df['Categoria Administrativa'] == 'Federal')], segregators=['Raça'])\n",
    "#plot_slope_graph(x='Ano', hue=\"Raça\", y=\"Porcentagem\", figsize=(4, 4), size=10, data=count_by_research_grant_and_year)\n",
    "teachers_evolution_by_research_grant"
   ]
  },
  {
   "cell_type": "markdown",
   "id": "e0a9fa75-bba2-44b6-b131-69bfb07f3b27",
   "metadata": {},
   "source": [
    "## Qual a presença de docentes deficientes?"
   ]
  },
  {
   "cell_type": "code",
   "execution_count": 19,
   "id": "34fc96da-06bf-410b-816e-da8bbf1b2580",
   "metadata": {
    "tags": []
   },
   "outputs": [
    {
     "data": {
      "text/html": [
       "<div>\n",
       "<style scoped>\n",
       "    .dataframe tbody tr th:only-of-type {\n",
       "        vertical-align: middle;\n",
       "    }\n",
       "\n",
       "    .dataframe tbody tr th {\n",
       "        vertical-align: top;\n",
       "    }\n",
       "\n",
       "    .dataframe thead th {\n",
       "        text-align: right;\n",
       "    }\n",
       "</style>\n",
       "<table border=\"1\" class=\"dataframe\">\n",
       "  <thead>\n",
       "    <tr style=\"text-align: right;\">\n",
       "      <th></th>\n",
       "      <th>Raça</th>\n",
       "      <th>2009</th>\n",
       "      <th>2019</th>\n",
       "      <th>Evolução (%)</th>\n",
       "      <th>Aumento Percentual (%)</th>\n",
       "    </tr>\n",
       "  </thead>\n",
       "  <tbody>\n",
       "    <tr>\n",
       "      <th>0</th>\n",
       "      <td>Amarela</td>\n",
       "      <td>3.26</td>\n",
       "      <td>3.01</td>\n",
       "      <td>-0.25</td>\n",
       "      <td>-7.67</td>\n",
       "    </tr>\n",
       "    <tr>\n",
       "      <th>1</th>\n",
       "      <td>Branca</td>\n",
       "      <td>77.67</td>\n",
       "      <td>69.94</td>\n",
       "      <td>-7.73</td>\n",
       "      <td>-9.95</td>\n",
       "    </tr>\n",
       "    <tr>\n",
       "      <th>2</th>\n",
       "      <td>Indígena</td>\n",
       "      <td>0.93</td>\n",
       "      <td>1.20</td>\n",
       "      <td>0.27</td>\n",
       "      <td>29.03</td>\n",
       "    </tr>\n",
       "    <tr>\n",
       "      <th>3</th>\n",
       "      <td>Parda</td>\n",
       "      <td>15.35</td>\n",
       "      <td>20.44</td>\n",
       "      <td>5.09</td>\n",
       "      <td>33.16</td>\n",
       "    </tr>\n",
       "    <tr>\n",
       "      <th>4</th>\n",
       "      <td>Preta</td>\n",
       "      <td>2.79</td>\n",
       "      <td>5.41</td>\n",
       "      <td>2.62</td>\n",
       "      <td>93.91</td>\n",
       "    </tr>\n",
       "  </tbody>\n",
       "</table>\n",
       "</div>"
      ],
      "text/plain": [
       "       Raça   2009   2019  Evolução (%)  Aumento Percentual (%)\n",
       "0   Amarela   3.26   3.01         -0.25                   -7.67\n",
       "1    Branca  77.67  69.94         -7.73                   -9.95\n",
       "2  Indígena   0.93   1.20          0.27                   29.03\n",
       "3     Parda  15.35  20.44          5.09                   33.16\n",
       "4     Preta   2.79   5.41          2.62                   93.91"
      ]
     },
     "execution_count": 19,
     "metadata": {},
     "output_type": "execute_result"
    }
   ],
   "source": [
    "teachers_by_deficiency, teachers_evolution_by_deficiency, count_by_deficiency_and_year = create_table_by_segregators(df[(df['Deficiência'] == True) & (df['Pública'] == True)], segregators=['Raça'])\n",
    "#plot_slope_graph(x='Ano', hue=\"Raça\", y=\"Porcentagem\", figsize=(4, 4), size=10, data=count_by_research_grant_and_year)\n",
    "teachers_evolution_by_deficiency"
   ]
  },
  {
   "cell_type": "code",
   "execution_count": 20,
   "id": "97eb6386-90b7-4e4d-bc3b-d224338cc838",
   "metadata": {
    "tags": []
   },
   "outputs": [
    {
     "data": {
      "text/html": [
       "<div>\n",
       "<style scoped>\n",
       "    .dataframe tbody tr th:only-of-type {\n",
       "        vertical-align: middle;\n",
       "    }\n",
       "\n",
       "    .dataframe tbody tr th {\n",
       "        vertical-align: top;\n",
       "    }\n",
       "\n",
       "    .dataframe thead th {\n",
       "        text-align: right;\n",
       "    }\n",
       "</style>\n",
       "<table border=\"1\" class=\"dataframe\">\n",
       "  <thead>\n",
       "    <tr style=\"text-align: right;\">\n",
       "      <th></th>\n",
       "      <th>Raça</th>\n",
       "      <th>2009</th>\n",
       "      <th>2019</th>\n",
       "      <th>Evolução (%)</th>\n",
       "      <th>Aumento Percentual (%)</th>\n",
       "    </tr>\n",
       "  </thead>\n",
       "  <tbody>\n",
       "    <tr>\n",
       "      <th>0</th>\n",
       "      <td>Amarela</td>\n",
       "      <td>1.41</td>\n",
       "      <td>1.08</td>\n",
       "      <td>-0.33</td>\n",
       "      <td>-23.40</td>\n",
       "    </tr>\n",
       "    <tr>\n",
       "      <th>1</th>\n",
       "      <td>Branca</td>\n",
       "      <td>82.19</td>\n",
       "      <td>80.97</td>\n",
       "      <td>-1.22</td>\n",
       "      <td>-1.48</td>\n",
       "    </tr>\n",
       "    <tr>\n",
       "      <th>2</th>\n",
       "      <td>Indígena</td>\n",
       "      <td>0.18</td>\n",
       "      <td>NaN</td>\n",
       "      <td>NaN</td>\n",
       "      <td>NaN</td>\n",
       "    </tr>\n",
       "    <tr>\n",
       "      <th>3</th>\n",
       "      <td>Parda</td>\n",
       "      <td>15.17</td>\n",
       "      <td>15.24</td>\n",
       "      <td>0.07</td>\n",
       "      <td>0.46</td>\n",
       "    </tr>\n",
       "    <tr>\n",
       "      <th>4</th>\n",
       "      <td>Preta</td>\n",
       "      <td>1.06</td>\n",
       "      <td>2.70</td>\n",
       "      <td>1.64</td>\n",
       "      <td>154.72</td>\n",
       "    </tr>\n",
       "  </tbody>\n",
       "</table>\n",
       "</div>"
      ],
      "text/plain": [
       "       Raça   2009   2019  Evolução (%)  Aumento Percentual (%)\n",
       "0   Amarela   1.41   1.08         -0.33                  -23.40\n",
       "1    Branca  82.19  80.97         -1.22                   -1.48\n",
       "2  Indígena   0.18    NaN           NaN                     NaN\n",
       "3     Parda  15.17  15.24          0.07                    0.46\n",
       "4     Preta   1.06   2.70          1.64                  154.72"
      ]
     },
     "execution_count": 20,
     "metadata": {},
     "output_type": "execute_result"
    }
   ],
   "source": [
    "teachers_by_deficiency, teachers_evolution_by_deficiency, count_by_deficiency_and_year = create_table_by_segregators(df[(df['Deficiência'] == True) & (df['Categoria Administrativa'] == 'Privada')], segregators=['Raça'])\n",
    "#plot_slope_graph(x='Ano', hue=\"Raça\", y=\"Porcentagem\", figsize=(4, 4), size=10, data=count_by_research_grant_and_year)\n",
    "teachers_evolution_by_deficiency"
   ]
  },
  {
   "cell_type": "code",
   "execution_count": 21,
   "id": "2ef2686b-0f5e-4f18-a077-c376d330df90",
   "metadata": {
    "tags": []
   },
   "outputs": [
    {
     "data": {
      "text/html": [
       "<div>\n",
       "<style scoped>\n",
       "    .dataframe tbody tr th:only-of-type {\n",
       "        vertical-align: middle;\n",
       "    }\n",
       "\n",
       "    .dataframe tbody tr th {\n",
       "        vertical-align: top;\n",
       "    }\n",
       "\n",
       "    .dataframe thead th {\n",
       "        text-align: right;\n",
       "    }\n",
       "</style>\n",
       "<table border=\"1\" class=\"dataframe\">\n",
       "  <thead>\n",
       "    <tr style=\"text-align: right;\">\n",
       "      <th></th>\n",
       "      <th>Raça</th>\n",
       "      <th>2009</th>\n",
       "      <th>2019</th>\n",
       "      <th>Evolução (%)</th>\n",
       "      <th>Aumento Percentual (%)</th>\n",
       "    </tr>\n",
       "  </thead>\n",
       "  <tbody>\n",
       "    <tr>\n",
       "      <th>0</th>\n",
       "      <td>Amarela</td>\n",
       "      <td>3.38</td>\n",
       "      <td>2.61</td>\n",
       "      <td>-0.77</td>\n",
       "      <td>-22.78</td>\n",
       "    </tr>\n",
       "    <tr>\n",
       "      <th>1</th>\n",
       "      <td>Branca</td>\n",
       "      <td>81.76</td>\n",
       "      <td>69.03</td>\n",
       "      <td>-12.73</td>\n",
       "      <td>-15.57</td>\n",
       "    </tr>\n",
       "    <tr>\n",
       "      <th>2</th>\n",
       "      <td>Indígena</td>\n",
       "      <td>0.68</td>\n",
       "      <td>1.87</td>\n",
       "      <td>1.19</td>\n",
       "      <td>175.00</td>\n",
       "    </tr>\n",
       "    <tr>\n",
       "      <th>3</th>\n",
       "      <td>Parda</td>\n",
       "      <td>11.49</td>\n",
       "      <td>19.78</td>\n",
       "      <td>8.29</td>\n",
       "      <td>72.15</td>\n",
       "    </tr>\n",
       "    <tr>\n",
       "      <th>4</th>\n",
       "      <td>Preta</td>\n",
       "      <td>2.70</td>\n",
       "      <td>6.72</td>\n",
       "      <td>4.02</td>\n",
       "      <td>148.89</td>\n",
       "    </tr>\n",
       "  </tbody>\n",
       "</table>\n",
       "</div>"
      ],
      "text/plain": [
       "       Raça   2009   2019  Evolução (%)  Aumento Percentual (%)\n",
       "0   Amarela   3.38   2.61         -0.77                  -22.78\n",
       "1    Branca  81.76  69.03        -12.73                  -15.57\n",
       "2  Indígena   0.68   1.87          1.19                  175.00\n",
       "3     Parda  11.49  19.78          8.29                   72.15\n",
       "4     Preta   2.70   6.72          4.02                  148.89"
      ]
     },
     "execution_count": 21,
     "metadata": {},
     "output_type": "execute_result"
    }
   ],
   "source": [
    "teachers_by_deficiency, teachers_evolution_by_deficiency, count_by_deficiency_and_year = create_table_by_segregators(df[(df['Deficiência'] == True) & (df['Categoria Administrativa'] == 'Federal')], segregators=['Raça'])\n",
    "#plot_slope_graph(x='Ano', hue=\"Raça\", y=\"Porcentagem\", figsize=(4, 4), size=10, data=count_by_research_grant_and_year)\n",
    "teachers_evolution_by_deficiency"
   ]
  },
  {
   "cell_type": "code",
   "execution_count": 22,
   "id": "61ccba4d-9b5a-454a-a201-ad7745702750",
   "metadata": {
    "tags": []
   },
   "outputs": [
    {
     "name": "stdout",
     "output_type": "stream",
     "text": [
      "782\n",
      "1424\n",
      "1\n",
      "0\n"
     ]
    }
   ],
   "source": [
    "print(len(df[(df['Deficiência'] == True) & (df['Ano'] == 2009)]))\n",
    "print(len(df[(df['Deficiência'] == True) & (df['Ano'] == 2019)]))\n",
    "\n",
    "print(len(df[(df['Deficiência'] == True) & (df['Ano'] == 2009) & (df['Raça'] == 'Indígena') & (df['Categoria Administrativa'] == 'Privada')]))\n",
    "print(len(df[(df['Deficiência'] == True) & (df['Ano'] == 2019) & (df['Raça'] == 'Indígena') & (df['Categoria Administrativa'] == 'Privada')]))\n"
   ]
  }
 ],
 "metadata": {
  "kernelspec": {
   "display_name": "Python 3 (ipykernel)",
   "language": "python",
   "name": "python3"
  },
  "language_info": {
   "codemirror_mode": {
    "name": "ipython",
    "version": 3
   },
   "file_extension": ".py",
   "mimetype": "text/x-python",
   "name": "python",
   "nbconvert_exporter": "python",
   "pygments_lexer": "ipython3",
   "version": "3.10.6"
  }
 },
 "nbformat": 4,
 "nbformat_minor": 5
}
