{
 "cells": [
  {
   "cell_type": "markdown",
   "id": "f3fdf6ad-3efa-4367-b4fe-4fed57f7ed93",
   "metadata": {},
   "source": [
    "### Separar publicas e privadas\n",
    "Observação: unidade de funcionamento não contém atributo direto para separar (caso necessário fazer relacionamento com outras tabelas)."
   ]
  },
  {
   "cell_type": "code",
   "execution_count": 1,
   "id": "679e51ed-13de-4d6c-89c3-22bba605b7bc",
   "metadata": {},
   "outputs": [],
   "source": [
    "# Importar arquivos\n",
    "\n",
    "import pandas as pd\n",
    "\n",
    "pd.set_option('display.max_columns', None)\n",
    "pd.set_option('display.max_rows', None)\n",
    "\n",
    "_2009_path = '2009/DADOS/'\n",
    "\n",
    "dm_ies_path = 'DM_IES.CSV'\n",
    "dm_curso_path = 'DM_CURSO.CSV'\n",
    "dm_docente_path = 'DM_DOCENTE.CSV'\n",
    "dm_aluno_path = 'DM_ALUNO.CSV'\n",
    "dm_vagas_ead_path = 'DM_VAGAS_INSCRITOS_EAD.CSV'"
   ]
  },
  {
   "cell_type": "code",
   "execution_count": 2,
   "id": "0b44975d-2fd5-413c-8971-30c64b39e7b3",
   "metadata": {},
   "outputs": [
    {
     "name": "stdout",
     "output_type": "stream",
     "text": [
      "OK.\n"
     ]
    }
   ],
   "source": [
    "# Ler arquivos\n",
    "\n",
    "dm_ies = pd.read_csv(_2009_path + dm_ies_path, '|')\n",
    "dm_curso = pd.read_csv(_2009_path + dm_curso_path, '|')\n",
    "dm_docente = pd.read_csv(_2009_path + dm_docente_path, '|')\n",
    "dm_aluno = pd.read_csv(_2009_path + dm_docente_path, '|')\n",
    "dm_vagas_ead = pd.read_csv(_2009_path + dm_vagas_ead_path, '|')\n",
    "\n",
    "print('OK.')"
   ]
  },
  {
   "cell_type": "code",
   "execution_count": 3,
   "id": "afaffb9e-1956-4173-8ce3-cce954b248e5",
   "metadata": {},
   "outputs": [
    {
     "name": "stdout",
     "output_type": "stream",
     "text": [
      "OK.\n"
     ]
    }
   ],
   "source": [
    "# Separar publico e privado\n",
    "\n",
    "def split_public_private(df):\n",
    "    public  = df[df[\"CO_CATEGORIA_ADMINISTRATIVA\"].isin([1,2,3])]\n",
    "    private = df[df[\"CO_CATEGORIA_ADMINISTRATIVA\"].isin([4,5,6])]\n",
    "    return public, private\n",
    "\n",
    "dm_ies_public, dm_ies_private = split_public_private(dm_ies)\n",
    "dm_curso_public, dm_curso_private = split_public_private(dm_curso)\n",
    "dm_docente_public, dm_docente_private = split_public_private(dm_docente)\n",
    "dm_aluno_public, dm_aluno_private = split_public_private(dm_aluno)\n",
    "dm_vagas_ead_public, dm_vagas_ead_private = split_public_private(dm_vagas_ead)\n",
    "\n",
    "print('OK.')"
   ]
  },
  {
   "cell_type": "code",
   "execution_count": 4,
   "id": "8a60c4e5-a63b-40b5-a148-433cf361b57f",
   "metadata": {},
   "outputs": [
    {
     "name": "stdout",
     "output_type": "stream",
     "text": [
      "OK.\n"
     ]
    }
   ],
   "source": [
    "# Salvar\n",
    "\n",
    "_2009_splitted_path = 'splitted/2009/DADOS/'\n",
    "def save_splitted_to_csv(df_public, df_private, input_path):\n",
    "    df_public.to_csv(_2009_splitted_path + input_path[0:-4] + \"_PUBLICAS\" + '.CSV', sep='|', encoding='utf-8')\n",
    "    df_private.to_csv(_2009_splitted_path + input_path[0:-4] + \"_PRIVADAS\" + '.CSV', sep='|', encoding='utf-8')\n",
    "    \n",
    "save_splitted_to_csv(dm_ies_public, dm_ies_private, dm_ies_path)\n",
    "save_splitted_to_csv(dm_curso_public, dm_curso_private, dm_curso_path)\n",
    "save_splitted_to_csv(dm_docente_public, dm_docente_private, dm_docente_path)\n",
    "save_splitted_to_csv(dm_aluno_public, dm_aluno_private, dm_aluno_path)\n",
    "save_splitted_to_csv(dm_vagas_ead_public, dm_vagas_ead_private, dm_vagas_ead_path)\n",
    "\n",
    "print('OK.')"
   ]
  }
 ],
 "metadata": {
  "kernelspec": {
   "display_name": "Python 3 (ipykernel)",
   "language": "python",
   "name": "python3"
  },
  "language_info": {
   "codemirror_mode": {
    "name": "ipython",
    "version": 3
   },
   "file_extension": ".py",
   "mimetype": "text/x-python",
   "name": "python",
   "nbconvert_exporter": "python",
   "pygments_lexer": "ipython3",
   "version": "3.10.0"
  }
 },
 "nbformat": 4,
 "nbformat_minor": 5
}
