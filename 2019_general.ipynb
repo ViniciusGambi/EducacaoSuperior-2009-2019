{
 "cells": [
  {
   "cell_type": "markdown",
   "id": "f3fdf6ad-3efa-4367-b4fe-4fed57f7ed93",
   "metadata": {},
   "source": [
    "### Setup inicial"
   ]
  },
  {
   "cell_type": "code",
   "execution_count": 1,
   "id": "679e51ed-13de-4d6c-89c3-22bba605b7bc",
   "metadata": {
    "tags": []
   },
   "outputs": [
    {
     "name": "stdout",
     "output_type": "stream",
     "text": [
      "ok\n"
     ]
    }
   ],
   "source": [
    "import pandas as pd\n",
    "\n",
    "pd.set_option('display.max_columns', None)\n",
    "pd.set_option('display.max_rows', None)\n",
    "\n",
    "_2019_path = '2019/DADOS/'\n",
    "\n",
    "sup_ies_path = 'SUP_IES_2019.CSV'\n",
    "sup_curso_path = 'SUP_CURSO_2019.CSV'\n",
    "sup_docente_path = 'SUP_DOCENTE_2019.CSV'\n",
    "sup_aluno_path = 'SUP_ALUNO_2019.CSV'\n",
    "sup_local_oferta_path = 'SUP_LOCAL_OFERTA_2019.CSV'\n",
    "tb_aux_cine_brasil_path = 'TB_AUX_CINE_BRASIL_2019.CSV'\n",
    "print('ok')"
   ]
  },
  {
   "cell_type": "code",
   "execution_count": null,
   "id": "7e73c172-3f4d-4bbb-a26c-368a77cf584c",
   "metadata": {},
   "outputs": [],
   "source": [
    "# Ler arquivos\n",
    "\n",
    "encoding='ISO-8859-1'\n",
    "\n",
    "sup_ies = pd.read_csv(filepath_or_buffer=_2019_path + sup_ies_path, sep='|', engine='python', encoding=encoding)\n",
    "sup_curso = pd.read_csv(filepath_or_buffer=_2019_path + sup_curso_path, sep='|', encoding=encoding)\n",
    "sup_docente = pd.read_csv(filepath_or_buffer=_2019_path + sup_docente_path, sep='|', encoding=encoding)\n",
    "sup_aluno = pd.read_csv(filepath_or_buffer=_2019_path + sup_docente_path, sep='|', encoding=encoding)\n",
    "sup_local_oferta = pd.read_csv(filepath_or_buffer=_2019_path + sup_local_oferta_path, sep='|', encoding=encoding)\n",
    "tb_aux_cine_brasil = pd.read_csv(filepath_or_buffer=_2019_path + tb_aux_cine_brasil_path, sep='|', encoding=encoding)\n"
   ]
  },
  {
   "cell_type": "code",
   "execution_count": null,
   "id": "b7f70f2a",
   "metadata": {},
   "outputs": [],
   "source": [
    "def split_public_private(df):\n",
    "    public  = df[df[\"TP_CATEGORIA_ADMINISTRATIVA\"].isin([1,2,3])]\n",
    "    private = df[df[\"TP_CATEGORIA_ADMINISTRATIVA\"].isin([4,5,6,7,8,9])]\n",
    "    return public, private\n",
    "\n",
    "sup_ies_public, sup_ies_private = split_public_private(sup_ies)\n",
    "sup_curso_public, sup_curso_private = split_public_private(sup_curso)\n",
    "sup_docente_public, sup_docente_private = split_public_private(sup_docente)\n",
    "sup_aluno_public, sup_aluno_private = split_public_private(sup_aluno)\n",
    "\n",
    "print('OK.')"
   ]
  },
  {
   "cell_type": "markdown",
   "id": "11680c0d-e26c-41a3-8f6e-254f6710c811",
   "metadata": {},
   "source": [
    "### Instuições de ensino superior"
   ]
  },
  {
   "cell_type": "code",
   "execution_count": null,
   "id": "566656c9-4186-40c4-8b48-bba24546e28b",
   "metadata": {},
   "outputs": [],
   "source": [
    "print(sup_ies.shape)\n",
    "sup_ies.head()"
   ]
  },
  {
   "cell_type": "code",
   "execution_count": null,
   "id": "5a92f695-b3f9-477e-8d5f-7a422922e866",
   "metadata": {},
   "outputs": [],
   "source": [
    "sup_ies.describe()"
   ]
  },
  {
   "cell_type": "markdown",
   "id": "f1057d74-12ea-4d2c-a996-ecccf7cf83bb",
   "metadata": {},
   "source": [
    "### Cursos"
   ]
  },
  {
   "cell_type": "code",
   "execution_count": null,
   "id": "4ab3f477-02fe-4df0-be07-9ccbe48ab07f",
   "metadata": {},
   "outputs": [],
   "source": [
    "print(sup_curso.shape)\n",
    "sup_curso.head()"
   ]
  },
  {
   "cell_type": "code",
   "execution_count": null,
   "id": "cc0adda4-1119-424f-b7a0-889caaaffb72",
   "metadata": {},
   "outputs": [],
   "source": [
    "sup_curso.describe()"
   ]
  },
  {
   "cell_type": "markdown",
   "id": "5268275f-428c-4ac8-b7ff-1126136df0ab",
   "metadata": {},
   "source": [
    "### Docente"
   ]
  },
  {
   "cell_type": "code",
   "execution_count": null,
   "id": "8fa9dc93-ec6e-4330-b2ae-2a14a850ed3c",
   "metadata": {},
   "outputs": [],
   "source": [
    "print(sup_docente.shape)\n",
    "sup_docente.head()"
   ]
  },
  {
   "cell_type": "code",
   "execution_count": null,
   "id": "48eb15d7-9f6e-4286-9418-a74ff6978980",
   "metadata": {},
   "outputs": [],
   "source": [
    "sup_docente.describe()"
   ]
  },
  {
   "cell_type": "markdown",
   "id": "cbcc0aee-2c03-45a8-a5eb-f6d50904c2d6",
   "metadata": {},
   "source": [
    "### Aluno"
   ]
  },
  {
   "cell_type": "code",
   "execution_count": null,
   "id": "16390e18-812a-4ce8-b208-fb4e41162625",
   "metadata": {},
   "outputs": [],
   "source": [
    "print(sup_aluno.shape)\n",
    "sup_aluno.head()"
   ]
  },
  {
   "cell_type": "code",
   "execution_count": null,
   "id": "4d4a67f3-0dc7-4284-b4f4-9ca8d983a684",
   "metadata": {},
   "outputs": [],
   "source": [
    "sup_aluno.describe()"
   ]
  },
  {
   "cell_type": "code",
   "execution_count": null,
   "id": "45161dc7-d7f2-4f19-a34e-e0f47c486fac",
   "metadata": {},
   "outputs": [],
   "source": [
    "### Unidade de funcionamento"
   ]
  },
  {
   "cell_type": "code",
   "execution_count": null,
   "id": "51acd57f-6cfa-48c6-bcc6-2e5f8f6a9f7d",
   "metadata": {},
   "outputs": [],
   "source": [
    "print(sup_local_oferta.shape)\n",
    "sup_local_oferta.head()"
   ]
  },
  {
   "cell_type": "code",
   "execution_count": null,
   "id": "6092f555-36ae-4420-bda8-8d5e2f896a0a",
   "metadata": {},
   "outputs": [],
   "source": [
    "sup_local_oferta.describe()"
   ]
  },
  {
   "cell_type": "markdown",
   "id": "bf603c2d-e03d-437c-b66b-e2fef7856966",
   "metadata": {},
   "source": [
    "### Vagas Ead"
   ]
  },
  {
   "cell_type": "code",
   "execution_count": null,
   "id": "ceb4d7e9-9552-49da-a7b0-a237981e5614",
   "metadata": {},
   "outputs": [],
   "source": [
    "print(tb_aux_cine_brasil.shape)\n",
    "tb_aux_cine_brasil.head()"
   ]
  },
  {
   "cell_type": "code",
   "execution_count": null,
   "id": "9b2efccb-5e4c-46e8-82df-48f601d0d13f",
   "metadata": {},
   "outputs": [],
   "source": [
    "tb_aux_cine_brasil.describe()"
   ]
  },
  {
   "cell_type": "code",
   "execution_count": null,
   "id": "217533d3-b14c-4fc3-be54-b4a8e073f406",
   "metadata": {},
   "outputs": [],
   "source": []
  }
 ],
 "metadata": {
  "kernelspec": {
   "display_name": "Python 3 (ipykernel)",
   "language": "python",
   "name": "python3"
  },
  "language_info": {
   "codemirror_mode": {
    "name": "ipython",
    "version": 3
   },
   "file_extension": ".py",
   "mimetype": "text/x-python",
   "name": "python",
   "nbconvert_exporter": "python",
   "pygments_lexer": "ipython3",
   "version": "3.10.0"
  }
 },
 "nbformat": 4,
 "nbformat_minor": 5
}
