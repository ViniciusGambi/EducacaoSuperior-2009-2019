{
 "cells": [
  {
   "cell_type": "markdown",
   "id": "f3fdf6ad-3efa-4367-b4fe-4fed57f7ed93",
   "metadata": {},
   "source": [
    "### Setup inicial"
   ]
  },
  {
   "cell_type": "code",
   "execution_count": 234,
   "id": "679e51ed-13de-4d6c-89c3-22bba605b7bc",
   "metadata": {
    "tags": []
   },
   "outputs": [
    {
     "name": "stdout",
     "output_type": "stream",
     "text": [
      "OK\n"
     ]
    }
   ],
   "source": [
    "import pandas as pd\n",
    "import matplotlib.pyplot as plt\n",
    "import seaborn as sns\n",
    "\n",
    "pd.set_option('display.max_columns', None)\n",
    "pd.set_option('display.max_rows', None)\n",
    "print('OK')"
   ]
  },
  {
   "cell_type": "code",
   "execution_count": 235,
   "id": "79432fbe-b475-4ed5-a008-4bb000510939",
   "metadata": {
    "tags": []
   },
   "outputs": [
    {
     "name": "stdout",
     "output_type": "stream",
     "text": [
      "{'2009': '2009/dados/SUP_DOCENTE.CSV', '2019': '2019/dados/SUP_DOCENTE.CSV'}\n"
     ]
    }
   ],
   "source": [
    "years = ['2009', '2019']\n",
    "\n",
    "def create_paths_for_many_years(years, file_base_name):\n",
    "    paths = dict()\n",
    "    for year in years:\n",
    "        paths[year] = '{}/dados/{}.CSV'.format(year, file_base_name)\n",
    "    return paths\n",
    "    \n",
    "def read_datasets_for_many_years(years, paths):\n",
    "    dfs = dict()\n",
    "    for year in years:\n",
    "        dfs[year] = pd.read_csv(filepath_or_buffer=paths[year], sep='|', engine='python', encoding=encoding)\n",
    "    return dfs\n",
    "\n",
    "teacher_paths = create_paths_for_many_years(years, 'SUP_DOCENTE')   \n",
    "\n",
    "encoding='ISO-8859-1'\n",
    "\n",
    "def get_federals(df):\n",
    "    public  = df[df[\"TP_CATEGORIA_ADMINISTRATIVA\"].isin([1])]\n",
    "    return public\n",
    "\n",
    "#ies_paths = _2019_path + 'SUP_IES_2019.CSV'\n",
    "#curso_paths = _2019_path + 'SUP_CURSO_2019.CSV'\n",
    "#aluno_paths = _2019_path + 'SUP_ALUNO_2019.CSV'\n",
    "\n",
    "\n",
    "print(teacher_paths)"
   ]
  },
  {
   "attachments": {},
   "cell_type": "markdown",
   "id": "e3413376-b921-4078-8a1a-4680aed8c9c4",
   "metadata": {},
   "source": [
    "### teachers"
   ]
  },
  {
   "cell_type": "code",
   "execution_count": 236,
   "id": "21b6e8da-5575-45ca-91df-920b4508bac2",
   "metadata": {
    "tags": []
   },
   "outputs": [],
   "source": [
    "teachers = read_datasets_for_many_years(years, teacher_paths)"
   ]
  },
  {
   "cell_type": "code",
   "execution_count": 237,
   "id": "74b3f66a-c7f4-44ef-95d2-278a9a4fa00f",
   "metadata": {
    "tags": []
   },
   "outputs": [],
   "source": [
    "columns = ['CO_CATEGORIA_ADMINISTRATIVA', 'CO_SITUACAO_DOCENTE', 'CO_ESCOLARIDADE_DOCENTE', 'IN_SEXO_DOCENTE', 'CO_COR_RACA_DOCENTE', 'IN_DOCENTE_DEFICIENCIA', 'IN_BOLSA_PESQUISA', 'IN_SUBSTITUTO']\n",
    "teachers['2009'] = teachers['2009'][columns]"
   ]
  },
  {
   "cell_type": "code",
   "execution_count": 238,
   "id": "d5a92ec3-f45b-48fd-9973-5dc04e76db1f",
   "metadata": {
    "tags": []
   },
   "outputs": [
    {
     "data": {
      "text/html": [
       "<div>\n",
       "<style scoped>\n",
       "    .dataframe tbody tr th:only-of-type {\n",
       "        vertical-align: middle;\n",
       "    }\n",
       "\n",
       "    .dataframe tbody tr th {\n",
       "        vertical-align: top;\n",
       "    }\n",
       "\n",
       "    .dataframe thead th {\n",
       "        text-align: right;\n",
       "    }\n",
       "</style>\n",
       "<table border=\"1\" class=\"dataframe\">\n",
       "  <thead>\n",
       "    <tr style=\"text-align: right;\">\n",
       "      <th></th>\n",
       "      <th>TP_CATEGORIA_ADMINISTRATIVA</th>\n",
       "      <th>TP_SITUACAO</th>\n",
       "      <th>TP_ESCOLARIDADE</th>\n",
       "      <th>TP_SEXO</th>\n",
       "      <th>TP_COR_RACA</th>\n",
       "      <th>IN_DEFICIENCIA</th>\n",
       "      <th>IN_BOLSA_PESQUISA</th>\n",
       "      <th>IN_SUBSTITUTO</th>\n",
       "      <th>NU_ANO_CENSO</th>\n",
       "    </tr>\n",
       "  </thead>\n",
       "  <tbody>\n",
       "    <tr>\n",
       "      <th>0</th>\n",
       "      <td>Federal</td>\n",
       "      <td>1</td>\n",
       "      <td>3</td>\n",
       "      <td>Masculino</td>\n",
       "      <td>1</td>\n",
       "      <td>0</td>\n",
       "      <td>0.0</td>\n",
       "      <td>0.0</td>\n",
       "      <td>2009</td>\n",
       "    </tr>\n",
       "    <tr>\n",
       "      <th>1</th>\n",
       "      <td>Federal</td>\n",
       "      <td>1</td>\n",
       "      <td>5</td>\n",
       "      <td>Feminino</td>\n",
       "      <td>1</td>\n",
       "      <td>0</td>\n",
       "      <td>0.0</td>\n",
       "      <td>0.0</td>\n",
       "      <td>2009</td>\n",
       "    </tr>\n",
       "    <tr>\n",
       "      <th>2</th>\n",
       "      <td>Federal</td>\n",
       "      <td>1</td>\n",
       "      <td>4</td>\n",
       "      <td>Feminino</td>\n",
       "      <td>1</td>\n",
       "      <td>0</td>\n",
       "      <td>0.0</td>\n",
       "      <td>0.0</td>\n",
       "      <td>2009</td>\n",
       "    </tr>\n",
       "    <tr>\n",
       "      <th>3</th>\n",
       "      <td>Federal</td>\n",
       "      <td>1</td>\n",
       "      <td>4</td>\n",
       "      <td>Masculino</td>\n",
       "      <td>6</td>\n",
       "      <td>0</td>\n",
       "      <td>0.0</td>\n",
       "      <td>0.0</td>\n",
       "      <td>2009</td>\n",
       "    </tr>\n",
       "    <tr>\n",
       "      <th>4</th>\n",
       "      <td>Federal</td>\n",
       "      <td>1</td>\n",
       "      <td>4</td>\n",
       "      <td>Masculino</td>\n",
       "      <td>0</td>\n",
       "      <td>0</td>\n",
       "      <td>0.0</td>\n",
       "      <td>0.0</td>\n",
       "      <td>2009</td>\n",
       "    </tr>\n",
       "  </tbody>\n",
       "</table>\n",
       "</div>"
      ],
      "text/plain": [
       "  TP_CATEGORIA_ADMINISTRATIVA  TP_SITUACAO  TP_ESCOLARIDADE    TP_SEXO  \\\n",
       "0                     Federal            1                3  Masculino   \n",
       "1                     Federal            1                5   Feminino   \n",
       "2                     Federal            1                4   Feminino   \n",
       "3                     Federal            1                4  Masculino   \n",
       "4                     Federal            1                4  Masculino   \n",
       "\n",
       "   TP_COR_RACA  IN_DEFICIENCIA  IN_BOLSA_PESQUISA  IN_SUBSTITUTO  NU_ANO_CENSO  \n",
       "0            1               0                0.0            0.0          2009  \n",
       "1            1               0                0.0            0.0          2009  \n",
       "2            1               0                0.0            0.0          2009  \n",
       "3            6               0                0.0            0.0          2009  \n",
       "4            0               0                0.0            0.0          2009  "
      ]
     },
     "execution_count": 238,
     "metadata": {},
     "output_type": "execute_result"
    }
   ],
   "source": [
    "### 2009 adjusts\n",
    "columns = {\n",
    "    'CO_CATEGORIA_ADMINISTRATIVA': 'TP_CATEGORIA_ADMINISTRATIVA', \n",
    "    'CO_SITUACAO_DOCENTE': 'TP_SITUACAO',\n",
    "    'CO_ESCOLARIDADE_DOCENTE': 'TP_ESCOLARIDADE',\n",
    "    'IN_SEXO_DOCENTE': 'TP_SEXO',\n",
    "    'CO_COR_RACA_DOCENTE': 'TP_COR_RACA',\n",
    "    'IN_DOCENTE_DEFICIENCIA': 'IN_DEFICIENCIA'\n",
    "}\n",
    "teachers['2009'].rename(columns=columns, inplace=True)\n",
    "teachers['2009']['NU_ANO_CENSO'] = pd.Series([2009 for x in range(len(teachers['2009'].index))])\n",
    "\n",
    "teachers['2009']['TP_CATEGORIA_ADMINISTRATIVA'] = teachers['2009']['TP_CATEGORIA_ADMINISTRATIVA'].replace({1: 'Federal', 2: 'Estadual', 3: 'Municipal', 4: 'Privada', 5: 'Privada', 6: 'Privada'})\n",
    "teachers['2009']['TP_SEXO'] = teachers['2009']['TP_SEXO'].replace({0: 'Masculino', 1: 'Feminino'})\n",
    "\n",
    "teachers['2009'].head()"
   ]
  },
  {
   "cell_type": "code",
   "execution_count": 239,
   "id": "6e7009d7-b4f7-4968-ac0e-37222918906e",
   "metadata": {
    "tags": []
   },
   "outputs": [],
   "source": [
    "### 2019 adjusts\n",
    "\n",
    "columns = ['NU_ANO_CENSO', 'TP_CATEGORIA_ADMINISTRATIVA', 'TP_SITUACAO', 'TP_ESCOLARIDADE', 'TP_SEXO', 'TP_COR_RACA', 'IN_DEFICIENCIA', 'IN_BOLSA_PESQUISA', 'IN_SUBSTITUTO']\n",
    "teachers['2019'] = teachers['2019'][columns]\n",
    "teachers['2019']['TP_CATEGORIA_ADMINISTRATIVA'] = teachers['2019']['TP_CATEGORIA_ADMINISTRATIVA'].replace({1: 'Federal', 2: 'Estadual', 3: 'Municipal', 4: 'Privada', 5: 'Privada', 6: 'Privada', 7: 'Especial', 8: 'Privada', 9: 'Privada'})\n",
    "teachers['2019']['TP_SEXO'] = teachers['2019']['TP_SEXO'].replace({1: 'Feminino', 2: 'Masculino'})"
   ]
  },
  {
   "cell_type": "code",
   "execution_count": 240,
   "id": "31241095-6ab6-44a6-90db-3b44ee22708e",
   "metadata": {
    "tags": []
   },
   "outputs": [
    {
     "data": {
      "text/html": [
       "<div>\n",
       "<style scoped>\n",
       "    .dataframe tbody tr th:only-of-type {\n",
       "        vertical-align: middle;\n",
       "    }\n",
       "\n",
       "    .dataframe tbody tr th {\n",
       "        vertical-align: top;\n",
       "    }\n",
       "\n",
       "    .dataframe thead th {\n",
       "        text-align: right;\n",
       "    }\n",
       "</style>\n",
       "<table border=\"1\" class=\"dataframe\">\n",
       "  <thead>\n",
       "    <tr style=\"text-align: right;\">\n",
       "      <th></th>\n",
       "      <th>Categoria Administrativa</th>\n",
       "      <th>Situação</th>\n",
       "      <th>Escolaridade</th>\n",
       "      <th>Sexo</th>\n",
       "      <th>Raça</th>\n",
       "      <th>Deficiência</th>\n",
       "      <th>Bolsa Pesquisa</th>\n",
       "      <th>Substituto</th>\n",
       "      <th>Ano</th>\n",
       "    </tr>\n",
       "  </thead>\n",
       "  <tbody>\n",
       "    <tr>\n",
       "      <th>0</th>\n",
       "      <td>Federal</td>\n",
       "      <td>Em exercício</td>\n",
       "      <td>Especialização</td>\n",
       "      <td>Masculino</td>\n",
       "      <td>Branca</td>\n",
       "      <td>False</td>\n",
       "      <td>False</td>\n",
       "      <td>False</td>\n",
       "      <td>2009</td>\n",
       "    </tr>\n",
       "    <tr>\n",
       "      <th>1</th>\n",
       "      <td>Federal</td>\n",
       "      <td>Em exercício</td>\n",
       "      <td>Doutorado</td>\n",
       "      <td>Feminino</td>\n",
       "      <td>Branca</td>\n",
       "      <td>False</td>\n",
       "      <td>False</td>\n",
       "      <td>False</td>\n",
       "      <td>2009</td>\n",
       "    </tr>\n",
       "    <tr>\n",
       "      <th>2</th>\n",
       "      <td>Federal</td>\n",
       "      <td>Em exercício</td>\n",
       "      <td>Mestrado</td>\n",
       "      <td>Feminino</td>\n",
       "      <td>Branca</td>\n",
       "      <td>False</td>\n",
       "      <td>False</td>\n",
       "      <td>False</td>\n",
       "      <td>2009</td>\n",
       "    </tr>\n",
       "    <tr>\n",
       "      <th>3</th>\n",
       "      <td>Federal</td>\n",
       "      <td>Em exercício</td>\n",
       "      <td>Mestrado</td>\n",
       "      <td>Masculino</td>\n",
       "      <td>Não dispõe da informação</td>\n",
       "      <td>False</td>\n",
       "      <td>False</td>\n",
       "      <td>False</td>\n",
       "      <td>2009</td>\n",
       "    </tr>\n",
       "    <tr>\n",
       "      <th>4</th>\n",
       "      <td>Federal</td>\n",
       "      <td>Em exercício</td>\n",
       "      <td>Mestrado</td>\n",
       "      <td>Masculino</td>\n",
       "      <td>Não quis declarar</td>\n",
       "      <td>False</td>\n",
       "      <td>False</td>\n",
       "      <td>False</td>\n",
       "      <td>2009</td>\n",
       "    </tr>\n",
       "  </tbody>\n",
       "</table>\n",
       "</div>"
      ],
      "text/plain": [
       "  Categoria Administrativa      Situação    Escolaridade       Sexo  \\\n",
       "0                  Federal  Em exercício  Especialização  Masculino   \n",
       "1                  Federal  Em exercício       Doutorado   Feminino   \n",
       "2                  Federal  Em exercício        Mestrado   Feminino   \n",
       "3                  Federal  Em exercício        Mestrado  Masculino   \n",
       "4                  Federal  Em exercício        Mestrado  Masculino   \n",
       "\n",
       "                       Raça Deficiência Bolsa Pesquisa Substituto   Ano  \n",
       "0                    Branca       False          False      False  2009  \n",
       "1                    Branca       False          False      False  2009  \n",
       "2                    Branca       False          False      False  2009  \n",
       "3  Não dispõe da informação       False          False      False  2009  \n",
       "4         Não quis declarar       False          False      False  2009  "
      ]
     },
     "execution_count": 240,
     "metadata": {},
     "output_type": "execute_result"
    }
   ],
   "source": [
    "### multiple adjusts\n",
    "\n",
    "df = pd.concat([teachers['2009'], teachers['2019']])\n",
    "df['TP_SITUACAO'] = df['TP_SITUACAO'].replace({1: 'Em exercício', 2: 'Afastado para qualificação', 3: 'Afastado por outros motivos', 4: 'Afastado por outros motivos', 5: 'Afastado por outros motivos', 6: 'Falecido'})\n",
    "df['TP_ESCOLARIDADE'] = df['TP_ESCOLARIDADE'].replace({1: 'Sem graduação', 2: 'Graduação', 3: 'Especialização', 4: 'Mestrado', 5: 'Doutorado'})\n",
    "df['TP_COR_RACA'] = df['TP_COR_RACA'].replace({0: 'Não quis declarar', 1: 'Branca', 2: 'Preta', 3: 'Parda', 4: 'Amarela', 5: 'Indígena', 6: 'Não dispõe da informação', 9: 'Não dispõe da informação'})\n",
    "df['IN_DEFICIENCIA'] = df['IN_DEFICIENCIA'].replace({0: False, 1: True, 9: None})\n",
    "df['IN_BOLSA_PESQUISA'] = df['IN_BOLSA_PESQUISA'].replace({0: False, 1: True})\n",
    "df['IN_SUBSTITUTO'] = df['IN_SUBSTITUTO'].replace({0: False, 1: True})\n",
    "\n",
    "df.rename(columns={'TP_CATEGORIA_ADMINISTRATIVA': 'Categoria Administrativa', 'TP_SITUACAO': 'Situação', 'TP_ESCOLARIDADE': 'Escolaridade', 'TP_SEXO': 'Sexo', 'TP_COR_RACA': 'Raça', 'NU_ANO_CENSO': 'Ano', 'IN_DEFICIENCIA': 'Deficiência', 'IN_BOLSA_PESQUISA': 'Bolsa Pesquisa', 'IN_SUBSTITUTO': 'Substituto'}, inplace=True)\n",
    "\n",
    "df.head()"
   ]
  },
  {
   "cell_type": "code",
   "execution_count": 241,
   "id": "566656c9-4186-40c4-8b48-bba24546e28b",
   "metadata": {
    "tags": []
   },
   "outputs": [
    {
     "name": "stdout",
     "output_type": "stream",
     "text": [
      "<class 'pandas.core.frame.DataFrame'>\n",
      "Int64Index: 758517 entries, 0 to 399427\n",
      "Data columns (total 9 columns):\n",
      " #   Column                    Non-Null Count   Dtype \n",
      "---  ------                    --------------   ----- \n",
      " 0   Categoria Administrativa  758517 non-null  object\n",
      " 1   Situação                  758517 non-null  object\n",
      " 2   Escolaridade              758517 non-null  object\n",
      " 3   Sexo                      758517 non-null  object\n",
      " 4   Raça                      758517 non-null  object\n",
      " 5   Deficiência               715141 non-null  object\n",
      " 6   Bolsa Pesquisa            470661 non-null  object\n",
      " 7   Substituto                734072 non-null  object\n",
      " 8   Ano                       758517 non-null  int64 \n",
      "dtypes: int64(1), object(8)\n",
      "memory usage: 57.9+ MB\n"
     ]
    }
   ],
   "source": [
    "df.info()"
   ]
  },
  {
   "cell_type": "code",
   "execution_count": 242,
   "id": "7ee5aeb0-eccb-480c-808e-fc100544bf15",
   "metadata": {
    "tags": []
   },
   "outputs": [
    {
     "data": {
      "text/plain": [
       "Categoria Administrativa         0\n",
       "Situação                         0\n",
       "Escolaridade                     0\n",
       "Sexo                             0\n",
       "Raça                             0\n",
       "Deficiência                  43376\n",
       "Bolsa Pesquisa              287856\n",
       "Substituto                   24445\n",
       "Ano                              0\n",
       "dtype: int64"
      ]
     },
     "execution_count": 242,
     "metadata": {},
     "output_type": "execute_result"
    }
   ],
   "source": [
    "df.isna().sum()"
   ]
  },
  {
   "attachments": {},
   "cell_type": "markdown",
   "id": "a62300e0-15b4-4bbe-a2f0-6a32da7c8b1a",
   "metadata": {},
   "source": [
    "Quantos são os teachers de cada categoria administrativa?"
   ]
  },
  {
   "cell_type": "code",
   "execution_count": 248,
   "id": "6af40ea8-c214-4d87-9697-61aae3ea7c4f",
   "metadata": {},
   "outputs": [
    {
     "data": {
      "text/html": [
       "<div>\n",
       "<style scoped>\n",
       "    .dataframe tbody tr th:only-of-type {\n",
       "        vertical-align: middle;\n",
       "    }\n",
       "\n",
       "    .dataframe tbody tr th {\n",
       "        vertical-align: top;\n",
       "    }\n",
       "\n",
       "    .dataframe thead tr th {\n",
       "        text-align: left;\n",
       "    }\n",
       "\n",
       "    .dataframe thead tr:last-of-type th {\n",
       "        text-align: right;\n",
       "    }\n",
       "</style>\n",
       "<table border=\"1\" class=\"dataframe\">\n",
       "  <thead>\n",
       "    <tr>\n",
       "      <th></th>\n",
       "      <th colspan=\"3\" halign=\"left\">Quantidade</th>\n",
       "      <th colspan=\"3\" halign=\"left\">Porcentagem</th>\n",
       "    </tr>\n",
       "    <tr>\n",
       "      <th></th>\n",
       "      <th>2009</th>\n",
       "      <th>2019</th>\n",
       "      <th>Evolução</th>\n",
       "      <th>2009</th>\n",
       "      <th>2019</th>\n",
       "      <th>Evolução (%)</th>\n",
       "    </tr>\n",
       "    <tr>\n",
       "      <th>Raça</th>\n",
       "      <th></th>\n",
       "      <th></th>\n",
       "      <th></th>\n",
       "      <th></th>\n",
       "      <th></th>\n",
       "      <th></th>\n",
       "    </tr>\n",
       "  </thead>\n",
       "  <tbody>\n",
       "    <tr>\n",
       "      <th>Amarela</th>\n",
       "      <td>2607</td>\n",
       "      <td>3941</td>\n",
       "      <td>1334</td>\n",
       "      <td>1.26</td>\n",
       "      <td>1.44</td>\n",
       "      <td>0.18</td>\n",
       "    </tr>\n",
       "    <tr>\n",
       "      <th>Branca</th>\n",
       "      <td>166797</td>\n",
       "      <td>204072</td>\n",
       "      <td>37275</td>\n",
       "      <td>80.89</td>\n",
       "      <td>74.76</td>\n",
       "      <td>-6.13</td>\n",
       "    </tr>\n",
       "    <tr>\n",
       "      <th>Indígena</th>\n",
       "      <td>443</td>\n",
       "      <td>494</td>\n",
       "      <td>51</td>\n",
       "      <td>0.21</td>\n",
       "      <td>0.18</td>\n",
       "      <td>-0.03</td>\n",
       "    </tr>\n",
       "    <tr>\n",
       "      <th>Parda</th>\n",
       "      <td>32293</td>\n",
       "      <td>56662</td>\n",
       "      <td>24369</td>\n",
       "      <td>15.66</td>\n",
       "      <td>20.76</td>\n",
       "      <td>5.10</td>\n",
       "    </tr>\n",
       "    <tr>\n",
       "      <th>Preta</th>\n",
       "      <td>4057</td>\n",
       "      <td>7816</td>\n",
       "      <td>3759</td>\n",
       "      <td>1.97</td>\n",
       "      <td>2.86</td>\n",
       "      <td>0.89</td>\n",
       "    </tr>\n",
       "  </tbody>\n",
       "</table>\n",
       "</div>"
      ],
      "text/plain": [
       "         Quantidade                  Porcentagem                    \n",
       "               2009    2019 Evolução        2009   2019 Evolução (%)\n",
       "Raça                                                                \n",
       "Amarela        2607    3941     1334        1.26   1.44         0.18\n",
       "Branca       166797  204072    37275       80.89  74.76        -6.13\n",
       "Indígena        443     494       51        0.21   0.18        -0.03\n",
       "Parda         32293   56662    24369       15.66  20.76         5.10\n",
       "Preta          4057    7816     3759        1.97   2.86         0.89"
      ]
     },
     "execution_count": 248,
     "metadata": {},
     "output_type": "execute_result"
    }
   ],
   "source": [
    "count_by_race_and_year_df = df[(df['Situação'] == 'Em exercício') & (df['Raça'] != 'Não dispõe da informação') & (df['Raça'] != 'Não quis declarar')].groupby(['Ano', 'Raça']).size().reset_index(name='Quantidade')\n",
    "total_by_year = count_by_race_and_year_df.groupby('Ano')['Quantidade'].sum()\n",
    "count_by_race_and_year_df['Porcentagem'] = count_by_race_and_year_df.apply(lambda x: (x['Quantidade'] / total_by_year[x['Ano']] * 100).round(2), axis=1)\n",
    "count_by_race_and_year_df\n",
    "\n",
    "percentage_pivot = count_by_race_and_year_df.pivot(index='Raça', columns='Ano', values='Porcentagem')\n",
    "quantity_pivot  = count_by_race_and_year_df.pivot(index='Raça', columns='Ano', values='Quantidade')\n",
    "teachers_by_race = pd.concat([quantity_pivot, percentage_pivot], axis=1)\n",
    "\n",
    "columns_tuples = [\n",
    "    ('Quantidade', teachers_by_race.columns[0]),\n",
    "    ('Quantidade', teachers_by_race.columns[1]),\n",
    "    ('Porcentagem', teachers_by_race.columns[2]),\n",
    "    ('Porcentagem', teachers_by_race.columns[3])\n",
    "]\n",
    "columns = pd.MultiIndex.from_tuples(columns_tuples)\n",
    "teachers_by_race.columns = columns\n",
    "teachers_by_race\n",
    "\n",
    "quantity_evolution = teachers_by_race['Quantidade', 2019] - teachers_by_race['Quantidade', 2009]\n",
    "percentage_evolution = teachers_by_race['Porcentagem', 2019] - teachers_by_race['Porcentagem', 2009]\n",
    "\n",
    "teachers_by_race[('Quantidade', 'Evolução')] = quantity_evolution\n",
    "teachers_by_race[('Porcentagem', 'Evolução (%)')] = percentage_evolution\n",
    "\n",
    "new_columns_order = [\n",
    "    ('Quantidade', 2009),\n",
    "    ('Quantidade', 2019),\n",
    "    ('Quantidade', 'Evolução'),\n",
    "    ('Porcentagem', 2009),\n",
    "    ('Porcentagem', 2019),\n",
    "    ('Porcentagem', 'Evolução (%)')\n",
    "]\n",
    "\n",
    "teachers_by_race = teachers_by_race[new_columns_order]\n",
    "teachers_by_race.index.name = 'Raça'\n",
    "teachers_by_race"
   ]
  },
  {
   "cell_type": "code",
   "execution_count": 284,
   "id": "293f3395",
   "metadata": {},
   "outputs": [
    {
     "data": {
      "text/html": [
       "<div>\n",
       "<style scoped>\n",
       "    .dataframe tbody tr th:only-of-type {\n",
       "        vertical-align: middle;\n",
       "    }\n",
       "\n",
       "    .dataframe tbody tr th {\n",
       "        vertical-align: top;\n",
       "    }\n",
       "\n",
       "    .dataframe thead th {\n",
       "        text-align: right;\n",
       "    }\n",
       "</style>\n",
       "<table border=\"1\" class=\"dataframe\">\n",
       "  <thead>\n",
       "    <tr style=\"text-align: right;\">\n",
       "      <th></th>\n",
       "      <th>Raça</th>\n",
       "      <th>Evolução</th>\n",
       "      <th>Evolução (%)</th>\n",
       "    </tr>\n",
       "  </thead>\n",
       "  <tbody>\n",
       "    <tr>\n",
       "      <th>0</th>\n",
       "      <td>Amarela</td>\n",
       "      <td>1334</td>\n",
       "      <td>0.18</td>\n",
       "    </tr>\n",
       "    <tr>\n",
       "      <th>1</th>\n",
       "      <td>Branca</td>\n",
       "      <td>37275</td>\n",
       "      <td>-6.13</td>\n",
       "    </tr>\n",
       "    <tr>\n",
       "      <th>2</th>\n",
       "      <td>Indígena</td>\n",
       "      <td>51</td>\n",
       "      <td>-0.03</td>\n",
       "    </tr>\n",
       "    <tr>\n",
       "      <th>3</th>\n",
       "      <td>Parda</td>\n",
       "      <td>24369</td>\n",
       "      <td>5.10</td>\n",
       "    </tr>\n",
       "    <tr>\n",
       "      <th>4</th>\n",
       "      <td>Preta</td>\n",
       "      <td>3759</td>\n",
       "      <td>0.89</td>\n",
       "    </tr>\n",
       "  </tbody>\n",
       "</table>\n",
       "</div>"
      ],
      "text/plain": [
       "       Raça  Evolução  Evolução (%)\n",
       "0   Amarela      1334          0.18\n",
       "1    Branca     37275         -6.13\n",
       "2  Indígena        51         -0.03\n",
       "3     Parda     24369          5.10\n",
       "4     Preta      3759          0.89"
      ]
     },
     "execution_count": 284,
     "metadata": {},
     "output_type": "execute_result"
    }
   ],
   "source": [
    "reseted_teachers_by_race = teachers_by_race.reset_index()\n",
    "teachers_evolution_by_race = pd.DataFrame({'Raça': reseted_teachers_by_race['Raça'], 'Evolução': reseted_teachers_by_race[('Quantidade', 'Evolução')], 'Evolução (%)': reseted_teachers_by_race[('Porcentagem', 'Evolução (%)')]})\n",
    "teachers_evolution_by_race"
   ]
  },
  {
   "cell_type": "code",
   "execution_count": 244,
   "id": "b336a1e9-44b5-4f65-88b8-f89562acddcd",
   "metadata": {
    "tags": []
   },
   "outputs": [
    {
     "data": {
      "image/png": "[encoded data removed]",
      "text/plain": [
       "<Figure size 1000x800 with 4 Axes>"
      ]
     },
     "metadata": {},
     "output_type": "display_data"
    }
   ],
   "source": [
    "fig, axs = plt.subplots(2, 2, figsize=(10, 8))\n",
    "plt.subplots_adjust(wspace=0.3, hspace=0.3)\n",
    "sns.barplot(x=\"Raça\", y=\"Quantidade\", hue=\"Ano\", data=count_by_race_and_year_df, ax=axs[0, 0])\n",
    "sns.barplot(x=\"Raça\", y=\"Porcentagem\", hue=\"Ano\", data=count_by_race_and_year_df, ax=axs[0,1])\n",
    "\n",
    "sns.lineplot(x=\"Ano\", y=\"Quantidade\", hue=\"Raça\", data=count_by_race_and_year_df, ax=axs[1,0])\n",
    "sns.lineplot(x=\"Ano\", y=\"Porcentagem\", hue=\"Raça\", data=count_by_race_and_year_df, ax=axs[1,1])\n",
    "plt.legend(loc='center left', bbox_to_anchor=(1, 0.5))\n",
    "\n",
    "plt.show()"
   ]
  },
  {
   "cell_type": "code",
   "execution_count": 283,
   "id": "c0d39a59-5bb6-485d-bfea-33e2b0b73a53",
   "metadata": {
    "tags": []
   },
   "outputs": [
    {
     "data": {
      "image/png": "[encoded data removed]",
      "text/plain": [
       "<Figure size 1000x400 with 2 Axes>"
      ]
     },
     "metadata": {},
     "output_type": "display_data"
    }
   ],
   "source": [
    "\n",
    "\n",
    "fig, axs = plt.subplots(ncols=2, figsize=(10,4))\n",
    "plt.subplots_adjust(wspace=0.3, hspace=0.3)\n",
    "sns.barplot(x='Raça', y='Evolução', data=quantity_evolution_df, ax=axs[0])\n",
    "sns.barplot(x='Raça', y='Evolução (%)', data=percentage_evolution_df, ax=axs[1])\n",
    "plt.show()"
   ]
  },
  {
   "cell_type": "code",
   "execution_count": null,
   "id": "5a70b86d-6d6d-49cd-9609-0dcf4bf9911d",
   "metadata": {},
   "outputs": [],
   "source": []
  }
 ],
 "metadata": {
  "kernelspec": {
   "display_name": "Python 3 (ipykernel)",
   "language": "python",
   "name": "python3"
  },
  "language_info": {
   "codemirror_mode": {
    "name": "ipython",
    "version": 3
   },
   "file_extension": ".py",
   "mimetype": "text/x-python",
   "name": "python",
   "nbconvert_exporter": "python",
   "pygments_lexer": "ipython3",
   "version": "3.10.9"
  }
 },
 "nbformat": 4,
 "nbformat_minor": 5
}
